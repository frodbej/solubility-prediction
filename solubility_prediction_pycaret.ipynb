{
  "cells": [
    {
      "cell_type": "markdown",
      "metadata": {
        "id": "B4_PCznLPrq-"
      },
      "source": [
        "## Load data"
      ]
    },
    {
      "cell_type": "code",
      "execution_count": 1,
      "metadata": {
        "id": "mpd_80NyPqIZ"
      },
      "outputs": [],
      "source": [
        "import pandas as pd"
      ]
    },
    {
      "cell_type": "code",
      "execution_count": 2,
      "metadata": {
        "colab": {
          "base_uri": "https://localhost:8080/",
          "height": 423
        },
        "id": "3qXrMoS-P2Hm",
        "outputId": "081f548c-975b-4bb4-9e2d-6bff038edc86"
      },
      "outputs": [
        {
          "data": {
            "text/html": [
              "\n",
              "  <div id=\"df-310f38dc-1bd5-4b7e-8271-b48e1cfcf734\" class=\"colab-df-container\">\n",
              "    <div>\n",
              "<style scoped>\n",
              "    .dataframe tbody tr th:only-of-type {\n",
              "        vertical-align: middle;\n",
              "    }\n",
              "\n",
              "    .dataframe tbody tr th {\n",
              "        vertical-align: top;\n",
              "    }\n",
              "\n",
              "    .dataframe thead th {\n",
              "        text-align: right;\n",
              "    }\n",
              "</style>\n",
              "<table border=\"1\" class=\"dataframe\">\n",
              "  <thead>\n",
              "    <tr style=\"text-align: right;\">\n",
              "      <th></th>\n",
              "      <th>MolLogP</th>\n",
              "      <th>MolWt</th>\n",
              "      <th>NumRotatableBonds</th>\n",
              "      <th>AromaticProportion</th>\n",
              "      <th>logS</th>\n",
              "    </tr>\n",
              "  </thead>\n",
              "  <tbody>\n",
              "    <tr>\n",
              "      <th>0</th>\n",
              "      <td>2.59540</td>\n",
              "      <td>167.850</td>\n",
              "      <td>0</td>\n",
              "      <td>0.000000</td>\n",
              "      <td>-2.180</td>\n",
              "    </tr>\n",
              "    <tr>\n",
              "      <th>1</th>\n",
              "      <td>2.37650</td>\n",
              "      <td>133.405</td>\n",
              "      <td>0</td>\n",
              "      <td>0.000000</td>\n",
              "      <td>-2.000</td>\n",
              "    </tr>\n",
              "    <tr>\n",
              "      <th>2</th>\n",
              "      <td>2.59380</td>\n",
              "      <td>167.850</td>\n",
              "      <td>1</td>\n",
              "      <td>0.000000</td>\n",
              "      <td>-1.740</td>\n",
              "    </tr>\n",
              "    <tr>\n",
              "      <th>3</th>\n",
              "      <td>2.02890</td>\n",
              "      <td>133.405</td>\n",
              "      <td>1</td>\n",
              "      <td>0.000000</td>\n",
              "      <td>-1.480</td>\n",
              "    </tr>\n",
              "    <tr>\n",
              "      <th>4</th>\n",
              "      <td>2.91890</td>\n",
              "      <td>187.375</td>\n",
              "      <td>1</td>\n",
              "      <td>0.000000</td>\n",
              "      <td>-3.040</td>\n",
              "    </tr>\n",
              "    <tr>\n",
              "      <th>...</th>\n",
              "      <td>...</td>\n",
              "      <td>...</td>\n",
              "      <td>...</td>\n",
              "      <td>...</td>\n",
              "      <td>...</td>\n",
              "    </tr>\n",
              "    <tr>\n",
              "      <th>1139</th>\n",
              "      <td>1.98820</td>\n",
              "      <td>287.343</td>\n",
              "      <td>8</td>\n",
              "      <td>0.000000</td>\n",
              "      <td>1.144</td>\n",
              "    </tr>\n",
              "    <tr>\n",
              "      <th>1140</th>\n",
              "      <td>3.42130</td>\n",
              "      <td>286.114</td>\n",
              "      <td>2</td>\n",
              "      <td>0.333333</td>\n",
              "      <td>-4.925</td>\n",
              "    </tr>\n",
              "    <tr>\n",
              "      <th>1141</th>\n",
              "      <td>3.60960</td>\n",
              "      <td>308.333</td>\n",
              "      <td>4</td>\n",
              "      <td>0.695652</td>\n",
              "      <td>-3.893</td>\n",
              "    </tr>\n",
              "    <tr>\n",
              "      <th>1142</th>\n",
              "      <td>2.56214</td>\n",
              "      <td>354.815</td>\n",
              "      <td>3</td>\n",
              "      <td>0.521739</td>\n",
              "      <td>-3.790</td>\n",
              "    </tr>\n",
              "    <tr>\n",
              "      <th>1143</th>\n",
              "      <td>2.02164</td>\n",
              "      <td>179.219</td>\n",
              "      <td>1</td>\n",
              "      <td>0.461538</td>\n",
              "      <td>-2.581</td>\n",
              "    </tr>\n",
              "  </tbody>\n",
              "</table>\n",
              "<p>1144 rows × 5 columns</p>\n",
              "</div>\n",
              "    <div class=\"colab-df-buttons\">\n",
              "\n",
              "  <div class=\"colab-df-container\">\n",
              "    <button class=\"colab-df-convert\" onclick=\"convertToInteractive('df-310f38dc-1bd5-4b7e-8271-b48e1cfcf734')\"\n",
              "            title=\"Convert this dataframe to an interactive table.\"\n",
              "            style=\"display:none;\">\n",
              "\n",
              "  <svg xmlns=\"http://www.w3.org/2000/svg\" height=\"24px\" viewBox=\"0 -960 960 960\">\n",
              "    <path d=\"M120-120v-720h720v720H120Zm60-500h600v-160H180v160Zm220 220h160v-160H400v160Zm0 220h160v-160H400v160ZM180-400h160v-160H180v160Zm440 0h160v-160H620v160ZM180-180h160v-160H180v160Zm440 0h160v-160H620v160Z\"/>\n",
              "  </svg>\n",
              "    </button>\n",
              "\n",
              "  <style>\n",
              "    .colab-df-container {\n",
              "      display:flex;\n",
              "      gap: 12px;\n",
              "    }\n",
              "\n",
              "    .colab-df-convert {\n",
              "      background-color: #E8F0FE;\n",
              "      border: none;\n",
              "      border-radius: 50%;\n",
              "      cursor: pointer;\n",
              "      display: none;\n",
              "      fill: #1967D2;\n",
              "      height: 32px;\n",
              "      padding: 0 0 0 0;\n",
              "      width: 32px;\n",
              "    }\n",
              "\n",
              "    .colab-df-convert:hover {\n",
              "      background-color: #E2EBFA;\n",
              "      box-shadow: 0px 1px 2px rgba(60, 64, 67, 0.3), 0px 1px 3px 1px rgba(60, 64, 67, 0.15);\n",
              "      fill: #174EA6;\n",
              "    }\n",
              "\n",
              "    .colab-df-buttons div {\n",
              "      margin-bottom: 4px;\n",
              "    }\n",
              "\n",
              "    [theme=dark] .colab-df-convert {\n",
              "      background-color: #3B4455;\n",
              "      fill: #D2E3FC;\n",
              "    }\n",
              "\n",
              "    [theme=dark] .colab-df-convert:hover {\n",
              "      background-color: #434B5C;\n",
              "      box-shadow: 0px 1px 3px 1px rgba(0, 0, 0, 0.15);\n",
              "      filter: drop-shadow(0px 1px 2px rgba(0, 0, 0, 0.3));\n",
              "      fill: #FFFFFF;\n",
              "    }\n",
              "  </style>\n",
              "\n",
              "    <script>\n",
              "      const buttonEl =\n",
              "        document.querySelector('#df-310f38dc-1bd5-4b7e-8271-b48e1cfcf734 button.colab-df-convert');\n",
              "      buttonEl.style.display =\n",
              "        google.colab.kernel.accessAllowed ? 'block' : 'none';\n",
              "\n",
              "      async function convertToInteractive(key) {\n",
              "        const element = document.querySelector('#df-310f38dc-1bd5-4b7e-8271-b48e1cfcf734');\n",
              "        const dataTable =\n",
              "          await google.colab.kernel.invokeFunction('convertToInteractive',\n",
              "                                                    [key], {});\n",
              "        if (!dataTable) return;\n",
              "\n",
              "        const docLinkHtml = 'Like what you see? Visit the ' +\n",
              "          '<a target=\"_blank\" href=https://colab.research.google.com/notebooks/data_table.ipynb>data table notebook</a>'\n",
              "          + ' to learn more about interactive tables.';\n",
              "        element.innerHTML = '';\n",
              "        dataTable['output_type'] = 'display_data';\n",
              "        await google.colab.output.renderOutput(dataTable, element);\n",
              "        const docLink = document.createElement('div');\n",
              "        docLink.innerHTML = docLinkHtml;\n",
              "        element.appendChild(docLink);\n",
              "      }\n",
              "    </script>\n",
              "  </div>\n",
              "\n",
              "\n",
              "<div id=\"df-153f1cb3-7522-4eb8-9206-db5b81009cd2\">\n",
              "  <button class=\"colab-df-quickchart\" onclick=\"quickchart('df-153f1cb3-7522-4eb8-9206-db5b81009cd2')\"\n",
              "            title=\"Suggest charts\"\n",
              "            style=\"display:none;\">\n",
              "\n",
              "<svg xmlns=\"http://www.w3.org/2000/svg\" height=\"24px\"viewBox=\"0 0 24 24\"\n",
              "     width=\"24px\">\n",
              "    <g>\n",
              "        <path d=\"M19 3H5c-1.1 0-2 .9-2 2v14c0 1.1.9 2 2 2h14c1.1 0 2-.9 2-2V5c0-1.1-.9-2-2-2zM9 17H7v-7h2v7zm4 0h-2V7h2v10zm4 0h-2v-4h2v4z\"/>\n",
              "    </g>\n",
              "</svg>\n",
              "  </button>\n",
              "\n",
              "<style>\n",
              "  .colab-df-quickchart {\n",
              "      --bg-color: #E8F0FE;\n",
              "      --fill-color: #1967D2;\n",
              "      --hover-bg-color: #E2EBFA;\n",
              "      --hover-fill-color: #174EA6;\n",
              "      --disabled-fill-color: #AAA;\n",
              "      --disabled-bg-color: #DDD;\n",
              "  }\n",
              "\n",
              "  [theme=dark] .colab-df-quickchart {\n",
              "      --bg-color: #3B4455;\n",
              "      --fill-color: #D2E3FC;\n",
              "      --hover-bg-color: #434B5C;\n",
              "      --hover-fill-color: #FFFFFF;\n",
              "      --disabled-bg-color: #3B4455;\n",
              "      --disabled-fill-color: #666;\n",
              "  }\n",
              "\n",
              "  .colab-df-quickchart {\n",
              "    background-color: var(--bg-color);\n",
              "    border: none;\n",
              "    border-radius: 50%;\n",
              "    cursor: pointer;\n",
              "    display: none;\n",
              "    fill: var(--fill-color);\n",
              "    height: 32px;\n",
              "    padding: 0;\n",
              "    width: 32px;\n",
              "  }\n",
              "\n",
              "  .colab-df-quickchart:hover {\n",
              "    background-color: var(--hover-bg-color);\n",
              "    box-shadow: 0 1px 2px rgba(60, 64, 67, 0.3), 0 1px 3px 1px rgba(60, 64, 67, 0.15);\n",
              "    fill: var(--button-hover-fill-color);\n",
              "  }\n",
              "\n",
              "  .colab-df-quickchart-complete:disabled,\n",
              "  .colab-df-quickchart-complete:disabled:hover {\n",
              "    background-color: var(--disabled-bg-color);\n",
              "    fill: var(--disabled-fill-color);\n",
              "    box-shadow: none;\n",
              "  }\n",
              "\n",
              "  .colab-df-spinner {\n",
              "    border: 2px solid var(--fill-color);\n",
              "    border-color: transparent;\n",
              "    border-bottom-color: var(--fill-color);\n",
              "    animation:\n",
              "      spin 1s steps(1) infinite;\n",
              "  }\n",
              "\n",
              "  @keyframes spin {\n",
              "    0% {\n",
              "      border-color: transparent;\n",
              "      border-bottom-color: var(--fill-color);\n",
              "      border-left-color: var(--fill-color);\n",
              "    }\n",
              "    20% {\n",
              "      border-color: transparent;\n",
              "      border-left-color: var(--fill-color);\n",
              "      border-top-color: var(--fill-color);\n",
              "    }\n",
              "    30% {\n",
              "      border-color: transparent;\n",
              "      border-left-color: var(--fill-color);\n",
              "      border-top-color: var(--fill-color);\n",
              "      border-right-color: var(--fill-color);\n",
              "    }\n",
              "    40% {\n",
              "      border-color: transparent;\n",
              "      border-right-color: var(--fill-color);\n",
              "      border-top-color: var(--fill-color);\n",
              "    }\n",
              "    60% {\n",
              "      border-color: transparent;\n",
              "      border-right-color: var(--fill-color);\n",
              "    }\n",
              "    80% {\n",
              "      border-color: transparent;\n",
              "      border-right-color: var(--fill-color);\n",
              "      border-bottom-color: var(--fill-color);\n",
              "    }\n",
              "    90% {\n",
              "      border-color: transparent;\n",
              "      border-bottom-color: var(--fill-color);\n",
              "    }\n",
              "  }\n",
              "</style>\n",
              "\n",
              "  <script>\n",
              "    async function quickchart(key) {\n",
              "      const quickchartButtonEl =\n",
              "        document.querySelector('#' + key + ' button');\n",
              "      quickchartButtonEl.disabled = true;  // To prevent multiple clicks.\n",
              "      quickchartButtonEl.classList.add('colab-df-spinner');\n",
              "      try {\n",
              "        const charts = await google.colab.kernel.invokeFunction(\n",
              "            'suggestCharts', [key], {});\n",
              "      } catch (error) {\n",
              "        console.error('Error during call to suggestCharts:', error);\n",
              "      }\n",
              "      quickchartButtonEl.classList.remove('colab-df-spinner');\n",
              "      quickchartButtonEl.classList.add('colab-df-quickchart-complete');\n",
              "    }\n",
              "    (() => {\n",
              "      let quickchartButtonEl =\n",
              "        document.querySelector('#df-153f1cb3-7522-4eb8-9206-db5b81009cd2 button');\n",
              "      quickchartButtonEl.style.display =\n",
              "        google.colab.kernel.accessAllowed ? 'block' : 'none';\n",
              "    })();\n",
              "  </script>\n",
              "</div>\n",
              "    </div>\n",
              "  </div>\n"
            ],
            "text/plain": [
              "      MolLogP    MolWt  NumRotatableBonds  AromaticProportion   logS\n",
              "0     2.59540  167.850                  0            0.000000 -2.180\n",
              "1     2.37650  133.405                  0            0.000000 -2.000\n",
              "2     2.59380  167.850                  1            0.000000 -1.740\n",
              "3     2.02890  133.405                  1            0.000000 -1.480\n",
              "4     2.91890  187.375                  1            0.000000 -3.040\n",
              "...       ...      ...                ...                 ...    ...\n",
              "1139  1.98820  287.343                  8            0.000000  1.144\n",
              "1140  3.42130  286.114                  2            0.333333 -4.925\n",
              "1141  3.60960  308.333                  4            0.695652 -3.893\n",
              "1142  2.56214  354.815                  3            0.521739 -3.790\n",
              "1143  2.02164  179.219                  1            0.461538 -2.581\n",
              "\n",
              "[1144 rows x 5 columns]"
            ]
          },
          "execution_count": 2,
          "metadata": {},
          "output_type": "execute_result"
        }
      ],
      "source": [
        "dataset = pd.read_csv('delaney_descriptors_with_solubility.csv')\n",
        "dataset.rename({'measured log(solubility:mol/L)': 'logS'}, axis=1, inplace=True)\n",
        "dataset"
      ]
    },
    {
      "cell_type": "markdown",
      "metadata": {
        "id": "mTPqCGRLP3gq"
      },
      "source": [
        "## Model building"
      ]
    },
    {
      "cell_type": "code",
      "execution_count": 3,
      "metadata": {
        "id": "IT9wucaLPbAf"
      },
      "outputs": [],
      "source": [
        "from pycaret.regression import *"
      ]
    },
    {
      "cell_type": "code",
      "execution_count": 4,
      "metadata": {
        "colab": {
          "base_uri": "https://localhost:8080/",
          "height": 645
        },
        "id": "IF4pEbgNQNdS",
        "outputId": "2a57f877-0de3-465b-d99c-4a7b1f4dc9e1"
      },
      "outputs": [
        {
          "data": {
            "text/html": [
              "<style type=\"text/css\">\n",
              "#T_e78db_row8_col1 {\n",
              "  background-color: lightgreen;\n",
              "}\n",
              "</style>\n",
              "<table id=\"T_e78db\" class=\"dataframe\">\n",
              "  <thead>\n",
              "    <tr>\n",
              "      <th class=\"blank level0\" >&nbsp;</th>\n",
              "      <th id=\"T_e78db_level0_col0\" class=\"col_heading level0 col0\" >Description</th>\n",
              "      <th id=\"T_e78db_level0_col1\" class=\"col_heading level0 col1\" >Value</th>\n",
              "    </tr>\n",
              "  </thead>\n",
              "  <tbody>\n",
              "    <tr>\n",
              "      <th id=\"T_e78db_level0_row0\" class=\"row_heading level0 row0\" >0</th>\n",
              "      <td id=\"T_e78db_row0_col0\" class=\"data row0 col0\" >Session id</td>\n",
              "      <td id=\"T_e78db_row0_col1\" class=\"data row0 col1\" >2131</td>\n",
              "    </tr>\n",
              "    <tr>\n",
              "      <th id=\"T_e78db_level0_row1\" class=\"row_heading level0 row1\" >1</th>\n",
              "      <td id=\"T_e78db_row1_col0\" class=\"data row1 col0\" >Target</td>\n",
              "      <td id=\"T_e78db_row1_col1\" class=\"data row1 col1\" >logS</td>\n",
              "    </tr>\n",
              "    <tr>\n",
              "      <th id=\"T_e78db_level0_row2\" class=\"row_heading level0 row2\" >2</th>\n",
              "      <td id=\"T_e78db_row2_col0\" class=\"data row2 col0\" >Target type</td>\n",
              "      <td id=\"T_e78db_row2_col1\" class=\"data row2 col1\" >Regression</td>\n",
              "    </tr>\n",
              "    <tr>\n",
              "      <th id=\"T_e78db_level0_row3\" class=\"row_heading level0 row3\" >3</th>\n",
              "      <td id=\"T_e78db_row3_col0\" class=\"data row3 col0\" >Original data shape</td>\n",
              "      <td id=\"T_e78db_row3_col1\" class=\"data row3 col1\" >(1144, 5)</td>\n",
              "    </tr>\n",
              "    <tr>\n",
              "      <th id=\"T_e78db_level0_row4\" class=\"row_heading level0 row4\" >4</th>\n",
              "      <td id=\"T_e78db_row4_col0\" class=\"data row4 col0\" >Transformed data shape</td>\n",
              "      <td id=\"T_e78db_row4_col1\" class=\"data row4 col1\" >(1144, 5)</td>\n",
              "    </tr>\n",
              "    <tr>\n",
              "      <th id=\"T_e78db_level0_row5\" class=\"row_heading level0 row5\" >5</th>\n",
              "      <td id=\"T_e78db_row5_col0\" class=\"data row5 col0\" >Transformed train set shape</td>\n",
              "      <td id=\"T_e78db_row5_col1\" class=\"data row5 col1\" >(915, 5)</td>\n",
              "    </tr>\n",
              "    <tr>\n",
              "      <th id=\"T_e78db_level0_row6\" class=\"row_heading level0 row6\" >6</th>\n",
              "      <td id=\"T_e78db_row6_col0\" class=\"data row6 col0\" >Transformed test set shape</td>\n",
              "      <td id=\"T_e78db_row6_col1\" class=\"data row6 col1\" >(229, 5)</td>\n",
              "    </tr>\n",
              "    <tr>\n",
              "      <th id=\"T_e78db_level0_row7\" class=\"row_heading level0 row7\" >7</th>\n",
              "      <td id=\"T_e78db_row7_col0\" class=\"data row7 col0\" >Numeric features</td>\n",
              "      <td id=\"T_e78db_row7_col1\" class=\"data row7 col1\" >4</td>\n",
              "    </tr>\n",
              "    <tr>\n",
              "      <th id=\"T_e78db_level0_row8\" class=\"row_heading level0 row8\" >8</th>\n",
              "      <td id=\"T_e78db_row8_col0\" class=\"data row8 col0\" >Preprocess</td>\n",
              "      <td id=\"T_e78db_row8_col1\" class=\"data row8 col1\" >True</td>\n",
              "    </tr>\n",
              "    <tr>\n",
              "      <th id=\"T_e78db_level0_row9\" class=\"row_heading level0 row9\" >9</th>\n",
              "      <td id=\"T_e78db_row9_col0\" class=\"data row9 col0\" >Imputation type</td>\n",
              "      <td id=\"T_e78db_row9_col1\" class=\"data row9 col1\" >simple</td>\n",
              "    </tr>\n",
              "    <tr>\n",
              "      <th id=\"T_e78db_level0_row10\" class=\"row_heading level0 row10\" >10</th>\n",
              "      <td id=\"T_e78db_row10_col0\" class=\"data row10 col0\" >Numeric imputation</td>\n",
              "      <td id=\"T_e78db_row10_col1\" class=\"data row10 col1\" >mean</td>\n",
              "    </tr>\n",
              "    <tr>\n",
              "      <th id=\"T_e78db_level0_row11\" class=\"row_heading level0 row11\" >11</th>\n",
              "      <td id=\"T_e78db_row11_col0\" class=\"data row11 col0\" >Categorical imputation</td>\n",
              "      <td id=\"T_e78db_row11_col1\" class=\"data row11 col1\" >mode</td>\n",
              "    </tr>\n",
              "    <tr>\n",
              "      <th id=\"T_e78db_level0_row12\" class=\"row_heading level0 row12\" >12</th>\n",
              "      <td id=\"T_e78db_row12_col0\" class=\"data row12 col0\" >Fold Generator</td>\n",
              "      <td id=\"T_e78db_row12_col1\" class=\"data row12 col1\" >KFold</td>\n",
              "    </tr>\n",
              "    <tr>\n",
              "      <th id=\"T_e78db_level0_row13\" class=\"row_heading level0 row13\" >13</th>\n",
              "      <td id=\"T_e78db_row13_col0\" class=\"data row13 col0\" >Fold Number</td>\n",
              "      <td id=\"T_e78db_row13_col1\" class=\"data row13 col1\" >10</td>\n",
              "    </tr>\n",
              "    <tr>\n",
              "      <th id=\"T_e78db_level0_row14\" class=\"row_heading level0 row14\" >14</th>\n",
              "      <td id=\"T_e78db_row14_col0\" class=\"data row14 col0\" >CPU Jobs</td>\n",
              "      <td id=\"T_e78db_row14_col1\" class=\"data row14 col1\" >-1</td>\n",
              "    </tr>\n",
              "    <tr>\n",
              "      <th id=\"T_e78db_level0_row15\" class=\"row_heading level0 row15\" >15</th>\n",
              "      <td id=\"T_e78db_row15_col0\" class=\"data row15 col0\" >Use GPU</td>\n",
              "      <td id=\"T_e78db_row15_col1\" class=\"data row15 col1\" >False</td>\n",
              "    </tr>\n",
              "    <tr>\n",
              "      <th id=\"T_e78db_level0_row16\" class=\"row_heading level0 row16\" >16</th>\n",
              "      <td id=\"T_e78db_row16_col0\" class=\"data row16 col0\" >Log Experiment</td>\n",
              "      <td id=\"T_e78db_row16_col1\" class=\"data row16 col1\" >False</td>\n",
              "    </tr>\n",
              "    <tr>\n",
              "      <th id=\"T_e78db_level0_row17\" class=\"row_heading level0 row17\" >17</th>\n",
              "      <td id=\"T_e78db_row17_col0\" class=\"data row17 col0\" >Experiment Name</td>\n",
              "      <td id=\"T_e78db_row17_col1\" class=\"data row17 col1\" >reg-default-name</td>\n",
              "    </tr>\n",
              "    <tr>\n",
              "      <th id=\"T_e78db_level0_row18\" class=\"row_heading level0 row18\" >18</th>\n",
              "      <td id=\"T_e78db_row18_col0\" class=\"data row18 col0\" >USI</td>\n",
              "      <td id=\"T_e78db_row18_col1\" class=\"data row18 col1\" >2281</td>\n",
              "    </tr>\n",
              "  </tbody>\n",
              "</table>\n"
            ],
            "text/plain": [
              "<pandas.io.formats.style.Styler at 0x7b2ad5956950>"
            ]
          },
          "metadata": {},
          "output_type": "display_data"
        }
      ],
      "source": [
        "model = setup(data=dataset, target='logS', train_size=0.8)"
      ]
    },
    {
      "cell_type": "markdown",
      "metadata": {
        "id": "2el9r34PRo7c"
      },
      "source": [
        "## Model comparison"
      ]
    },
    {
      "cell_type": "code",
      "execution_count": 5,
      "metadata": {
        "colab": {
          "base_uri": "https://localhost:8080/",
          "height": 702,
          "referenced_widgets": [
            "5410108e5ca449c4864b49d1ec343a92",
            "a94e51a087f4432f98869eb3d54d3f71",
            "c5d9d8af59dd4f5ab3c93a0acb905e18",
            "c426a816502f4f03bf0235fe406fc99d",
            "6187b321926a4ace8937ea4662a0794f",
            "2acc149fef7441899fa0a7481c5ec668",
            "51c5f809ced74952b49df3427a396d00",
            "a1c6ac304fba4a7a8682b13d313617c5",
            "c4dac2f9e28e450a90850afa81b61049",
            "e2c5438c80984320a9a6c2beda19d954",
            "dd91dcf826704390971f038af29f0360"
          ]
        },
        "id": "ymcuZtYURLHI",
        "outputId": "8735481d-f243-4664-ae8e-1b43907b3b9b"
      },
      "outputs": [
        {
          "data": {
            "text/html": [],
            "text/plain": [
              "<IPython.core.display.HTML object>"
            ]
          },
          "metadata": {},
          "output_type": "display_data"
        },
        {
          "data": {
            "text/html": [
              "<style type=\"text/css\">\n",
              "#T_85303 th {\n",
              "  text-align: left;\n",
              "}\n",
              "#T_85303_row0_col0, #T_85303_row0_col5, #T_85303_row0_col6, #T_85303_row1_col0, #T_85303_row1_col1, #T_85303_row1_col2, #T_85303_row1_col3, #T_85303_row1_col4, #T_85303_row1_col6, #T_85303_row2_col0, #T_85303_row2_col1, #T_85303_row2_col2, #T_85303_row2_col3, #T_85303_row2_col4, #T_85303_row2_col5, #T_85303_row2_col6, #T_85303_row3_col0, #T_85303_row3_col1, #T_85303_row3_col2, #T_85303_row3_col3, #T_85303_row3_col4, #T_85303_row3_col5, #T_85303_row4_col0, #T_85303_row4_col1, #T_85303_row4_col2, #T_85303_row4_col3, #T_85303_row4_col4, #T_85303_row4_col5, #T_85303_row4_col6, #T_85303_row5_col0, #T_85303_row5_col1, #T_85303_row5_col2, #T_85303_row5_col3, #T_85303_row5_col4, #T_85303_row5_col5, #T_85303_row5_col6, #T_85303_row6_col0, #T_85303_row6_col1, #T_85303_row6_col2, #T_85303_row6_col3, #T_85303_row6_col4, #T_85303_row6_col5, #T_85303_row6_col6, #T_85303_row7_col0, #T_85303_row7_col1, #T_85303_row7_col2, #T_85303_row7_col3, #T_85303_row7_col4, #T_85303_row7_col5, #T_85303_row7_col6, #T_85303_row8_col0, #T_85303_row8_col1, #T_85303_row8_col2, #T_85303_row8_col3, #T_85303_row8_col4, #T_85303_row8_col5, #T_85303_row8_col6, #T_85303_row9_col0, #T_85303_row9_col1, #T_85303_row9_col2, #T_85303_row9_col3, #T_85303_row9_col4, #T_85303_row9_col5, #T_85303_row9_col6, #T_85303_row10_col0, #T_85303_row10_col1, #T_85303_row10_col2, #T_85303_row10_col3, #T_85303_row10_col4, #T_85303_row10_col5, #T_85303_row10_col6, #T_85303_row11_col0, #T_85303_row11_col1, #T_85303_row11_col2, #T_85303_row11_col3, #T_85303_row11_col4, #T_85303_row11_col5, #T_85303_row11_col6, #T_85303_row12_col0, #T_85303_row12_col1, #T_85303_row12_col2, #T_85303_row12_col3, #T_85303_row12_col4, #T_85303_row12_col5, #T_85303_row12_col6, #T_85303_row13_col0, #T_85303_row13_col1, #T_85303_row13_col2, #T_85303_row13_col3, #T_85303_row13_col4, #T_85303_row13_col5, #T_85303_row13_col6, #T_85303_row14_col0, #T_85303_row14_col1, #T_85303_row14_col2, #T_85303_row14_col3, #T_85303_row14_col4, #T_85303_row14_col5, #T_85303_row14_col6, #T_85303_row15_col0, #T_85303_row15_col1, #T_85303_row15_col2, #T_85303_row15_col3, #T_85303_row15_col4, #T_85303_row15_col5, #T_85303_row15_col6, #T_85303_row16_col0, #T_85303_row16_col1, #T_85303_row16_col2, #T_85303_row16_col3, #T_85303_row16_col4, #T_85303_row16_col5, #T_85303_row16_col6, #T_85303_row17_col0, #T_85303_row17_col1, #T_85303_row17_col2, #T_85303_row17_col3, #T_85303_row17_col4, #T_85303_row17_col5, #T_85303_row17_col6, #T_85303_row18_col0, #T_85303_row18_col1, #T_85303_row18_col2, #T_85303_row18_col3, #T_85303_row18_col4, #T_85303_row18_col5, #T_85303_row18_col6 {\n",
              "  text-align: left;\n",
              "}\n",
              "#T_85303_row0_col1, #T_85303_row0_col2, #T_85303_row0_col3, #T_85303_row0_col4, #T_85303_row1_col5, #T_85303_row3_col6 {\n",
              "  text-align: left;\n",
              "  background-color: yellow;\n",
              "}\n",
              "#T_85303_row0_col7, #T_85303_row1_col7, #T_85303_row2_col7, #T_85303_row3_col7, #T_85303_row4_col7, #T_85303_row5_col7, #T_85303_row6_col7, #T_85303_row7_col7, #T_85303_row8_col7, #T_85303_row9_col7, #T_85303_row10_col7, #T_85303_row11_col7, #T_85303_row12_col7, #T_85303_row13_col7, #T_85303_row14_col7, #T_85303_row15_col7, #T_85303_row17_col7 {\n",
              "  text-align: left;\n",
              "  background-color: lightgrey;\n",
              "}\n",
              "#T_85303_row16_col7, #T_85303_row18_col7 {\n",
              "  text-align: left;\n",
              "  background-color: yellow;\n",
              "  background-color: lightgrey;\n",
              "}\n",
              "</style>\n",
              "<table id=\"T_85303\" class=\"dataframe\">\n",
              "  <thead>\n",
              "    <tr>\n",
              "      <th class=\"blank level0\" >&nbsp;</th>\n",
              "      <th id=\"T_85303_level0_col0\" class=\"col_heading level0 col0\" >Model</th>\n",
              "      <th id=\"T_85303_level0_col1\" class=\"col_heading level0 col1\" >MAE</th>\n",
              "      <th id=\"T_85303_level0_col2\" class=\"col_heading level0 col2\" >MSE</th>\n",
              "      <th id=\"T_85303_level0_col3\" class=\"col_heading level0 col3\" >RMSE</th>\n",
              "      <th id=\"T_85303_level0_col4\" class=\"col_heading level0 col4\" >R2</th>\n",
              "      <th id=\"T_85303_level0_col5\" class=\"col_heading level0 col5\" >RMSLE</th>\n",
              "      <th id=\"T_85303_level0_col6\" class=\"col_heading level0 col6\" >MAPE</th>\n",
              "      <th id=\"T_85303_level0_col7\" class=\"col_heading level0 col7\" >TT (Sec)</th>\n",
              "    </tr>\n",
              "  </thead>\n",
              "  <tbody>\n",
              "    <tr>\n",
              "      <th id=\"T_85303_level0_row0\" class=\"row_heading level0 row0\" >et</th>\n",
              "      <td id=\"T_85303_row0_col0\" class=\"data row0 col0\" >Extra Trees Regressor</td>\n",
              "      <td id=\"T_85303_row0_col1\" class=\"data row0 col1\" >0.5294</td>\n",
              "      <td id=\"T_85303_row0_col2\" class=\"data row0 col2\" >0.5508</td>\n",
              "      <td id=\"T_85303_row0_col3\" class=\"data row0 col3\" >0.7395</td>\n",
              "      <td id=\"T_85303_row0_col4\" class=\"data row0 col4\" >0.8720</td>\n",
              "      <td id=\"T_85303_row0_col5\" class=\"data row0 col5\" >0.2106</td>\n",
              "      <td id=\"T_85303_row0_col6\" class=\"data row0 col6\" >0.7329</td>\n",
              "      <td id=\"T_85303_row0_col7\" class=\"data row0 col7\" >0.3630</td>\n",
              "    </tr>\n",
              "    <tr>\n",
              "      <th id=\"T_85303_level0_row1\" class=\"row_heading level0 row1\" >rf</th>\n",
              "      <td id=\"T_85303_row1_col0\" class=\"data row1 col0\" >Random Forest Regressor</td>\n",
              "      <td id=\"T_85303_row1_col1\" class=\"data row1 col1\" >0.5394</td>\n",
              "      <td id=\"T_85303_row1_col2\" class=\"data row1 col2\" >0.5689</td>\n",
              "      <td id=\"T_85303_row1_col3\" class=\"data row1 col3\" >0.7480</td>\n",
              "      <td id=\"T_85303_row1_col4\" class=\"data row1 col4\" >0.8673</td>\n",
              "      <td id=\"T_85303_row1_col5\" class=\"data row1 col5\" >0.2094</td>\n",
              "      <td id=\"T_85303_row1_col6\" class=\"data row1 col6\" >0.7047</td>\n",
              "      <td id=\"T_85303_row1_col7\" class=\"data row1 col7\" >0.2870</td>\n",
              "    </tr>\n",
              "    <tr>\n",
              "      <th id=\"T_85303_level0_row2\" class=\"row_heading level0 row2\" >lightgbm</th>\n",
              "      <td id=\"T_85303_row2_col0\" class=\"data row2 col0\" >Light Gradient Boosting Machine</td>\n",
              "      <td id=\"T_85303_row2_col1\" class=\"data row2 col1\" >0.5621</td>\n",
              "      <td id=\"T_85303_row2_col2\" class=\"data row2 col2\" >0.5821</td>\n",
              "      <td id=\"T_85303_row2_col3\" class=\"data row2 col3\" >0.7612</td>\n",
              "      <td id=\"T_85303_row2_col4\" class=\"data row2 col4\" >0.8649</td>\n",
              "      <td id=\"T_85303_row2_col5\" class=\"data row2 col5\" >0.2153</td>\n",
              "      <td id=\"T_85303_row2_col6\" class=\"data row2 col6\" >0.7791</td>\n",
              "      <td id=\"T_85303_row2_col7\" class=\"data row2 col7\" >0.6560</td>\n",
              "    </tr>\n",
              "    <tr>\n",
              "      <th id=\"T_85303_level0_row3\" class=\"row_heading level0 row3\" >xgboost</th>\n",
              "      <td id=\"T_85303_row3_col0\" class=\"data row3 col0\" >Extreme Gradient Boosting</td>\n",
              "      <td id=\"T_85303_row3_col1\" class=\"data row3 col1\" >0.5673</td>\n",
              "      <td id=\"T_85303_row3_col2\" class=\"data row3 col2\" >0.6286</td>\n",
              "      <td id=\"T_85303_row3_col3\" class=\"data row3 col3\" >0.7897</td>\n",
              "      <td id=\"T_85303_row3_col4\" class=\"data row3 col4\" >0.8545</td>\n",
              "      <td id=\"T_85303_row3_col5\" class=\"data row3 col5\" >0.2226</td>\n",
              "      <td id=\"T_85303_row3_col6\" class=\"data row3 col6\" >0.7000</td>\n",
              "      <td id=\"T_85303_row3_col7\" class=\"data row3 col7\" >0.0860</td>\n",
              "    </tr>\n",
              "    <tr>\n",
              "      <th id=\"T_85303_level0_row4\" class=\"row_heading level0 row4\" >gbr</th>\n",
              "      <td id=\"T_85303_row4_col0\" class=\"data row4 col0\" >Gradient Boosting Regressor</td>\n",
              "      <td id=\"T_85303_row4_col1\" class=\"data row4 col1\" >0.5936</td>\n",
              "      <td id=\"T_85303_row4_col2\" class=\"data row4 col2\" >0.6346</td>\n",
              "      <td id=\"T_85303_row4_col3\" class=\"data row4 col3\" >0.7944</td>\n",
              "      <td id=\"T_85303_row4_col4\" class=\"data row4 col4\" >0.8529</td>\n",
              "      <td id=\"T_85303_row4_col5\" class=\"data row4 col5\" >0.2199</td>\n",
              "      <td id=\"T_85303_row4_col6\" class=\"data row4 col6\" >0.7626</td>\n",
              "      <td id=\"T_85303_row4_col7\" class=\"data row4 col7\" >0.1080</td>\n",
              "    </tr>\n",
              "    <tr>\n",
              "      <th id=\"T_85303_level0_row5\" class=\"row_heading level0 row5\" >ada</th>\n",
              "      <td id=\"T_85303_row5_col0\" class=\"data row5 col0\" >AdaBoost Regressor</td>\n",
              "      <td id=\"T_85303_row5_col1\" class=\"data row5 col1\" >0.6998</td>\n",
              "      <td id=\"T_85303_row5_col2\" class=\"data row5 col2\" >0.8266</td>\n",
              "      <td id=\"T_85303_row5_col3\" class=\"data row5 col3\" >0.9066</td>\n",
              "      <td id=\"T_85303_row5_col4\" class=\"data row5 col4\" >0.8087</td>\n",
              "      <td id=\"T_85303_row5_col5\" class=\"data row5 col5\" >0.2416</td>\n",
              "      <td id=\"T_85303_row5_col6\" class=\"data row5 col6\" >0.8994</td>\n",
              "      <td id=\"T_85303_row5_col7\" class=\"data row5 col7\" >0.0870</td>\n",
              "    </tr>\n",
              "    <tr>\n",
              "      <th id=\"T_85303_level0_row6\" class=\"row_heading level0 row6\" >dt</th>\n",
              "      <td id=\"T_85303_row6_col0\" class=\"data row6 col0\" >Decision Tree Regressor</td>\n",
              "      <td id=\"T_85303_row6_col1\" class=\"data row6 col1\" >0.6832</td>\n",
              "      <td id=\"T_85303_row6_col2\" class=\"data row6 col2\" >1.0059</td>\n",
              "      <td id=\"T_85303_row6_col3\" class=\"data row6 col3\" >0.9963</td>\n",
              "      <td id=\"T_85303_row6_col4\" class=\"data row6 col4\" >0.7659</td>\n",
              "      <td id=\"T_85303_row6_col5\" class=\"data row6 col5\" >0.2578</td>\n",
              "      <td id=\"T_85303_row6_col6\" class=\"data row6 col6\" >0.7961</td>\n",
              "      <td id=\"T_85303_row6_col7\" class=\"data row6 col7\" >0.0220</td>\n",
              "    </tr>\n",
              "    <tr>\n",
              "      <th id=\"T_85303_level0_row7\" class=\"row_heading level0 row7\" >huber</th>\n",
              "      <td id=\"T_85303_row7_col0\" class=\"data row7 col0\" >Huber Regressor</td>\n",
              "      <td id=\"T_85303_row7_col1\" class=\"data row7 col1\" >0.7669</td>\n",
              "      <td id=\"T_85303_row7_col2\" class=\"data row7 col2\" >1.0256</td>\n",
              "      <td id=\"T_85303_row7_col3\" class=\"data row7 col3\" >1.0098</td>\n",
              "      <td id=\"T_85303_row7_col4\" class=\"data row7 col4\" >0.7627</td>\n",
              "      <td id=\"T_85303_row7_col5\" class=\"data row7 col5\" >0.2843</td>\n",
              "      <td id=\"T_85303_row7_col6\" class=\"data row7 col6\" >0.9230</td>\n",
              "      <td id=\"T_85303_row7_col7\" class=\"data row7 col7\" >0.0410</td>\n",
              "    </tr>\n",
              "    <tr>\n",
              "      <th id=\"T_85303_level0_row8\" class=\"row_heading level0 row8\" >lar</th>\n",
              "      <td id=\"T_85303_row8_col0\" class=\"data row8 col0\" >Least Angle Regression</td>\n",
              "      <td id=\"T_85303_row8_col1\" class=\"data row8 col1\" >0.7711</td>\n",
              "      <td id=\"T_85303_row8_col2\" class=\"data row8 col2\" >1.0281</td>\n",
              "      <td id=\"T_85303_row8_col3\" class=\"data row8 col3\" >1.0113</td>\n",
              "      <td id=\"T_85303_row8_col4\" class=\"data row8 col4\" >0.7621</td>\n",
              "      <td id=\"T_85303_row8_col5\" class=\"data row8 col5\" >0.2852</td>\n",
              "      <td id=\"T_85303_row8_col6\" class=\"data row8 col6\" >0.9765</td>\n",
              "      <td id=\"T_85303_row8_col7\" class=\"data row8 col7\" >0.0210</td>\n",
              "    </tr>\n",
              "    <tr>\n",
              "      <th id=\"T_85303_level0_row9\" class=\"row_heading level0 row9\" >br</th>\n",
              "      <td id=\"T_85303_row9_col0\" class=\"data row9 col0\" >Bayesian Ridge</td>\n",
              "      <td id=\"T_85303_row9_col1\" class=\"data row9 col1\" >0.7716</td>\n",
              "      <td id=\"T_85303_row9_col2\" class=\"data row9 col2\" >1.0279</td>\n",
              "      <td id=\"T_85303_row9_col3\" class=\"data row9 col3\" >1.0112</td>\n",
              "      <td id=\"T_85303_row9_col4\" class=\"data row9 col4\" >0.7621</td>\n",
              "      <td id=\"T_85303_row9_col5\" class=\"data row9 col5\" >0.2850</td>\n",
              "      <td id=\"T_85303_row9_col6\" class=\"data row9 col6\" >0.9774</td>\n",
              "      <td id=\"T_85303_row9_col7\" class=\"data row9 col7\" >0.0200</td>\n",
              "    </tr>\n",
              "    <tr>\n",
              "      <th id=\"T_85303_level0_row10\" class=\"row_heading level0 row10\" >ridge</th>\n",
              "      <td id=\"T_85303_row10_col0\" class=\"data row10 col0\" >Ridge Regression</td>\n",
              "      <td id=\"T_85303_row10_col1\" class=\"data row10 col1\" >0.7712</td>\n",
              "      <td id=\"T_85303_row10_col2\" class=\"data row10 col2\" >1.0280</td>\n",
              "      <td id=\"T_85303_row10_col3\" class=\"data row10 col3\" >1.0113</td>\n",
              "      <td id=\"T_85303_row10_col4\" class=\"data row10 col4\" >0.7621</td>\n",
              "      <td id=\"T_85303_row10_col5\" class=\"data row10 col5\" >0.2852</td>\n",
              "      <td id=\"T_85303_row10_col6\" class=\"data row10 col6\" >0.9767</td>\n",
              "      <td id=\"T_85303_row10_col7\" class=\"data row10 col7\" >0.0200</td>\n",
              "    </tr>\n",
              "    <tr>\n",
              "      <th id=\"T_85303_level0_row11\" class=\"row_heading level0 row11\" >lr</th>\n",
              "      <td id=\"T_85303_row11_col0\" class=\"data row11 col0\" >Linear Regression</td>\n",
              "      <td id=\"T_85303_row11_col1\" class=\"data row11 col1\" >0.7711</td>\n",
              "      <td id=\"T_85303_row11_col2\" class=\"data row11 col2\" >1.0281</td>\n",
              "      <td id=\"T_85303_row11_col3\" class=\"data row11 col3\" >1.0113</td>\n",
              "      <td id=\"T_85303_row11_col4\" class=\"data row11 col4\" >0.7621</td>\n",
              "      <td id=\"T_85303_row11_col5\" class=\"data row11 col5\" >0.2852</td>\n",
              "      <td id=\"T_85303_row11_col6\" class=\"data row11 col6\" >0.9765</td>\n",
              "      <td id=\"T_85303_row11_col7\" class=\"data row11 col7\" >1.0710</td>\n",
              "    </tr>\n",
              "    <tr>\n",
              "      <th id=\"T_85303_level0_row12\" class=\"row_heading level0 row12\" >en</th>\n",
              "      <td id=\"T_85303_row12_col0\" class=\"data row12 col0\" >Elastic Net</td>\n",
              "      <td id=\"T_85303_row12_col1\" class=\"data row12 col1\" >0.8467</td>\n",
              "      <td id=\"T_85303_row12_col2\" class=\"data row12 col2\" >1.2247</td>\n",
              "      <td id=\"T_85303_row12_col3\" class=\"data row12 col3\" >1.1013</td>\n",
              "      <td id=\"T_85303_row12_col4\" class=\"data row12 col4\" >0.7195</td>\n",
              "      <td id=\"T_85303_row12_col5\" class=\"data row12 col5\" >0.2916</td>\n",
              "      <td id=\"T_85303_row12_col6\" class=\"data row12 col6\" >1.1240</td>\n",
              "      <td id=\"T_85303_row12_col7\" class=\"data row12 col7\" >0.0200</td>\n",
              "    </tr>\n",
              "    <tr>\n",
              "      <th id=\"T_85303_level0_row13\" class=\"row_heading level0 row13\" >lasso</th>\n",
              "      <td id=\"T_85303_row13_col0\" class=\"data row13 col0\" >Lasso Regression</td>\n",
              "      <td id=\"T_85303_row13_col1\" class=\"data row13 col1\" >0.8965</td>\n",
              "      <td id=\"T_85303_row13_col2\" class=\"data row13 col2\" >1.3823</td>\n",
              "      <td id=\"T_85303_row13_col3\" class=\"data row13 col3\" >1.1706</td>\n",
              "      <td id=\"T_85303_row13_col4\" class=\"data row13 col4\" >0.6837</td>\n",
              "      <td id=\"T_85303_row13_col5\" class=\"data row13 col5\" >0.3010</td>\n",
              "      <td id=\"T_85303_row13_col6\" class=\"data row13 col6\" >1.2281</td>\n",
              "      <td id=\"T_85303_row13_col7\" class=\"data row13 col7\" >0.0200</td>\n",
              "    </tr>\n",
              "    <tr>\n",
              "      <th id=\"T_85303_level0_row14\" class=\"row_heading level0 row14\" >llar</th>\n",
              "      <td id=\"T_85303_row14_col0\" class=\"data row14 col0\" >Lasso Least Angle Regression</td>\n",
              "      <td id=\"T_85303_row14_col1\" class=\"data row14 col1\" >0.8965</td>\n",
              "      <td id=\"T_85303_row14_col2\" class=\"data row14 col2\" >1.3823</td>\n",
              "      <td id=\"T_85303_row14_col3\" class=\"data row14 col3\" >1.1706</td>\n",
              "      <td id=\"T_85303_row14_col4\" class=\"data row14 col4\" >0.6837</td>\n",
              "      <td id=\"T_85303_row14_col5\" class=\"data row14 col5\" >0.3010</td>\n",
              "      <td id=\"T_85303_row14_col6\" class=\"data row14 col6\" >1.2281</td>\n",
              "      <td id=\"T_85303_row14_col7\" class=\"data row14 col7\" >0.0200</td>\n",
              "    </tr>\n",
              "    <tr>\n",
              "      <th id=\"T_85303_level0_row15\" class=\"row_heading level0 row15\" >knn</th>\n",
              "      <td id=\"T_85303_row15_col0\" class=\"data row15 col0\" >K Neighbors Regressor</td>\n",
              "      <td id=\"T_85303_row15_col1\" class=\"data row15 col1\" >0.9642</td>\n",
              "      <td id=\"T_85303_row15_col2\" class=\"data row15 col2\" >1.7477</td>\n",
              "      <td id=\"T_85303_row15_col3\" class=\"data row15 col3\" >1.3173</td>\n",
              "      <td id=\"T_85303_row15_col4\" class=\"data row15 col4\" >0.5995</td>\n",
              "      <td id=\"T_85303_row15_col5\" class=\"data row15 col5\" >0.3320</td>\n",
              "      <td id=\"T_85303_row15_col6\" class=\"data row15 col6\" >1.1688</td>\n",
              "      <td id=\"T_85303_row15_col7\" class=\"data row15 col7\" >0.0270</td>\n",
              "    </tr>\n",
              "    <tr>\n",
              "      <th id=\"T_85303_level0_row16\" class=\"row_heading level0 row16\" >omp</th>\n",
              "      <td id=\"T_85303_row16_col0\" class=\"data row16 col0\" >Orthogonal Matching Pursuit</td>\n",
              "      <td id=\"T_85303_row16_col1\" class=\"data row16 col1\" >1.2217</td>\n",
              "      <td id=\"T_85303_row16_col2\" class=\"data row16 col2\" >2.6650</td>\n",
              "      <td id=\"T_85303_row16_col3\" class=\"data row16 col3\" >1.6279</td>\n",
              "      <td id=\"T_85303_row16_col4\" class=\"data row16 col4\" >0.3881</td>\n",
              "      <td id=\"T_85303_row16_col5\" class=\"data row16 col5\" >0.3982</td>\n",
              "      <td id=\"T_85303_row16_col6\" class=\"data row16 col6\" >1.7319</td>\n",
              "      <td id=\"T_85303_row16_col7\" class=\"data row16 col7\" >0.0190</td>\n",
              "    </tr>\n",
              "    <tr>\n",
              "      <th id=\"T_85303_level0_row17\" class=\"row_heading level0 row17\" >par</th>\n",
              "      <td id=\"T_85303_row17_col0\" class=\"data row17 col0\" >Passive Aggressive Regressor</td>\n",
              "      <td id=\"T_85303_row17_col1\" class=\"data row17 col1\" >1.4119</td>\n",
              "      <td id=\"T_85303_row17_col2\" class=\"data row17 col2\" >3.8478</td>\n",
              "      <td id=\"T_85303_row17_col3\" class=\"data row17 col3\" >1.7266</td>\n",
              "      <td id=\"T_85303_row17_col4\" class=\"data row17 col4\" >0.1689</td>\n",
              "      <td id=\"T_85303_row17_col5\" class=\"data row17 col5\" >0.3894</td>\n",
              "      <td id=\"T_85303_row17_col6\" class=\"data row17 col6\" >1.3603</td>\n",
              "      <td id=\"T_85303_row17_col7\" class=\"data row17 col7\" >0.0220</td>\n",
              "    </tr>\n",
              "    <tr>\n",
              "      <th id=\"T_85303_level0_row18\" class=\"row_heading level0 row18\" >dummy</th>\n",
              "      <td id=\"T_85303_row18_col0\" class=\"data row18 col0\" >Dummy Regressor</td>\n",
              "      <td id=\"T_85303_row18_col1\" class=\"data row18 col1\" >1.6573</td>\n",
              "      <td id=\"T_85303_row18_col2\" class=\"data row18 col2\" >4.4372</td>\n",
              "      <td id=\"T_85303_row18_col3\" class=\"data row18 col3\" >2.1039</td>\n",
              "      <td id=\"T_85303_row18_col4\" class=\"data row18 col4\" >-0.0113</td>\n",
              "      <td id=\"T_85303_row18_col5\" class=\"data row18 col5\" >0.5332</td>\n",
              "      <td id=\"T_85303_row18_col6\" class=\"data row18 col6\" >2.7847</td>\n",
              "      <td id=\"T_85303_row18_col7\" class=\"data row18 col7\" >0.0190</td>\n",
              "    </tr>\n",
              "  </tbody>\n",
              "</table>\n"
            ],
            "text/plain": [
              "<pandas.io.formats.style.Styler at 0x7b2aef8a4400>"
            ]
          },
          "metadata": {},
          "output_type": "display_data"
        },
        {
          "data": {
            "application/vnd.jupyter.widget-view+json": {
              "model_id": "5410108e5ca449c4864b49d1ec343a92",
              "version_major": 2,
              "version_minor": 0
            },
            "text/plain": [
              "Processing:   0%|          | 0/81 [00:00<?, ?it/s]"
            ]
          },
          "metadata": {
            "application/vnd.jupyter.widget-view+json": {
              "colab": {
                "custom_widget_manager": {
                  "url": "https://ssl.gstatic.com/colaboratory-static/widgets/colab-cdn-widget-manager/b3e629b1971e1542/manager.min.js"
                }
              }
            }
          },
          "output_type": "display_data"
        },
        {
          "data": {
            "text/html": [],
            "text/plain": [
              "<IPython.core.display.HTML object>"
            ]
          },
          "metadata": {},
          "output_type": "display_data"
        },
        {
          "data": {
            "text/html": [
              "<style>#sk-container-id-1 {color: black;background-color: white;}#sk-container-id-1 pre{padding: 0;}#sk-container-id-1 div.sk-toggleable {background-color: white;}#sk-container-id-1 label.sk-toggleable__label {cursor: pointer;display: block;width: 100%;margin-bottom: 0;padding: 0.3em;box-sizing: border-box;text-align: center;}#sk-container-id-1 label.sk-toggleable__label-arrow:before {content: \"▸\";float: left;margin-right: 0.25em;color: #696969;}#sk-container-id-1 label.sk-toggleable__label-arrow:hover:before {color: black;}#sk-container-id-1 div.sk-estimator:hover label.sk-toggleable__label-arrow:before {color: black;}#sk-container-id-1 div.sk-toggleable__content {max-height: 0;max-width: 0;overflow: hidden;text-align: left;background-color: #f0f8ff;}#sk-container-id-1 div.sk-toggleable__content pre {margin: 0.2em;color: black;border-radius: 0.25em;background-color: #f0f8ff;}#sk-container-id-1 input.sk-toggleable__control:checked~div.sk-toggleable__content {max-height: 200px;max-width: 100%;overflow: auto;}#sk-container-id-1 input.sk-toggleable__control:checked~label.sk-toggleable__label-arrow:before {content: \"▾\";}#sk-container-id-1 div.sk-estimator input.sk-toggleable__control:checked~label.sk-toggleable__label {background-color: #d4ebff;}#sk-container-id-1 div.sk-label input.sk-toggleable__control:checked~label.sk-toggleable__label {background-color: #d4ebff;}#sk-container-id-1 input.sk-hidden--visually {border: 0;clip: rect(1px 1px 1px 1px);clip: rect(1px, 1px, 1px, 1px);height: 1px;margin: -1px;overflow: hidden;padding: 0;position: absolute;width: 1px;}#sk-container-id-1 div.sk-estimator {font-family: monospace;background-color: #f0f8ff;border: 1px dotted black;border-radius: 0.25em;box-sizing: border-box;margin-bottom: 0.5em;}#sk-container-id-1 div.sk-estimator:hover {background-color: #d4ebff;}#sk-container-id-1 div.sk-parallel-item::after {content: \"\";width: 100%;border-bottom: 1px solid gray;flex-grow: 1;}#sk-container-id-1 div.sk-label:hover label.sk-toggleable__label {background-color: #d4ebff;}#sk-container-id-1 div.sk-serial::before {content: \"\";position: absolute;border-left: 1px solid gray;box-sizing: border-box;top: 0;bottom: 0;left: 50%;z-index: 0;}#sk-container-id-1 div.sk-serial {display: flex;flex-direction: column;align-items: center;background-color: white;padding-right: 0.2em;padding-left: 0.2em;position: relative;}#sk-container-id-1 div.sk-item {position: relative;z-index: 1;}#sk-container-id-1 div.sk-parallel {display: flex;align-items: stretch;justify-content: center;background-color: white;position: relative;}#sk-container-id-1 div.sk-item::before, #sk-container-id-1 div.sk-parallel-item::before {content: \"\";position: absolute;border-left: 1px solid gray;box-sizing: border-box;top: 0;bottom: 0;left: 50%;z-index: -1;}#sk-container-id-1 div.sk-parallel-item {display: flex;flex-direction: column;z-index: 1;position: relative;background-color: white;}#sk-container-id-1 div.sk-parallel-item:first-child::after {align-self: flex-end;width: 50%;}#sk-container-id-1 div.sk-parallel-item:last-child::after {align-self: flex-start;width: 50%;}#sk-container-id-1 div.sk-parallel-item:only-child::after {width: 0;}#sk-container-id-1 div.sk-dashed-wrapped {border: 1px dashed gray;margin: 0 0.4em 0.5em 0.4em;box-sizing: border-box;padding-bottom: 0.4em;background-color: white;}#sk-container-id-1 div.sk-label label {font-family: monospace;font-weight: bold;display: inline-block;line-height: 1.2em;}#sk-container-id-1 div.sk-label-container {text-align: center;}#sk-container-id-1 div.sk-container {/* jupyter's `normalize.less` sets `[hidden] { display: none; }` but bootstrap.min.css set `[hidden] { display: none !important; }` so we also need the `!important` here to be able to override the default hidden behavior on the sphinx rendered scikit-learn.org. See: https://github.com/scikit-learn/scikit-learn/issues/21755 */display: inline-block !important;position: relative;}#sk-container-id-1 div.sk-text-repr-fallback {display: none;}</style><div id=\"sk-container-id-1\" class=\"sk-top-container\"><div class=\"sk-text-repr-fallback\"><pre>ExtraTreesRegressor(n_jobs=-1, random_state=2131)</pre><b>In a Jupyter environment, please rerun this cell to show the HTML representation or trust the notebook. <br />On GitHub, the HTML representation is unable to render, please try loading this page with nbviewer.org.</b></div><div class=\"sk-container\" hidden><div class=\"sk-item\"><div class=\"sk-estimator sk-toggleable\"><input class=\"sk-toggleable__control sk-hidden--visually\" id=\"sk-estimator-id-1\" type=\"checkbox\" checked><label for=\"sk-estimator-id-1\" class=\"sk-toggleable__label sk-toggleable__label-arrow\">ExtraTreesRegressor</label><div class=\"sk-toggleable__content\"><pre>ExtraTreesRegressor(n_jobs=-1, random_state=2131)</pre></div></div></div></div></div>"
            ],
            "text/plain": [
              "ExtraTreesRegressor(n_jobs=-1, random_state=2131)"
            ]
          },
          "execution_count": 5,
          "metadata": {},
          "output_type": "execute_result"
        }
      ],
      "source": [
        "compare_models()"
      ]
    },
    {
      "cell_type": "markdown",
      "metadata": {
        "id": "0CiOQNXnR98N"
      },
      "source": [
        "**ExtraTreesRegressor** achieves a superior performance compared with the previously employed Linear Regression, so we will continue with this model."
      ]
    },
    {
      "cell_type": "code",
      "execution_count": 6,
      "metadata": {
        "colab": {
          "base_uri": "https://localhost:8080/",
          "height": 457,
          "referenced_widgets": [
            "b4e7579c76d44646934e1c4971d80870",
            "ac341eca37314aca8663b809bccc8956",
            "1fcc23747d4a4290b4960b2064697df9",
            "5f69f094d97247daa3a15f8e6553aef7",
            "3f206ddf9db94e9bad64672a02220cf8",
            "32170dba5d024f30838bbed80b9d6be5",
            "df6c4b5a3af5493191642f564696379d",
            "d8d03fc1d4964b72aad9a622eda42538",
            "fb49c34256524a63b2179b552ca987ec",
            "85135269475f42f8bd07eba892cd44e0",
            "08b22d411be240b28fcc435693ee7e37"
          ]
        },
        "id": "YYiMIziRSGQC",
        "outputId": "9f9e7df3-4fef-4e69-c9b9-1909308ac1e7"
      },
      "outputs": [
        {
          "data": {
            "text/html": [],
            "text/plain": [
              "<IPython.core.display.HTML object>"
            ]
          },
          "metadata": {},
          "output_type": "display_data"
        },
        {
          "data": {
            "text/html": [
              "<style type=\"text/css\">\n",
              "#T_c092d_row10_col0, #T_c092d_row10_col1, #T_c092d_row10_col2, #T_c092d_row10_col3, #T_c092d_row10_col4, #T_c092d_row10_col5 {\n",
              "  background: yellow;\n",
              "}\n",
              "</style>\n",
              "<table id=\"T_c092d\" class=\"dataframe\">\n",
              "  <thead>\n",
              "    <tr>\n",
              "      <th class=\"blank level0\" >&nbsp;</th>\n",
              "      <th id=\"T_c092d_level0_col0\" class=\"col_heading level0 col0\" >MAE</th>\n",
              "      <th id=\"T_c092d_level0_col1\" class=\"col_heading level0 col1\" >MSE</th>\n",
              "      <th id=\"T_c092d_level0_col2\" class=\"col_heading level0 col2\" >RMSE</th>\n",
              "      <th id=\"T_c092d_level0_col3\" class=\"col_heading level0 col3\" >R2</th>\n",
              "      <th id=\"T_c092d_level0_col4\" class=\"col_heading level0 col4\" >RMSLE</th>\n",
              "      <th id=\"T_c092d_level0_col5\" class=\"col_heading level0 col5\" >MAPE</th>\n",
              "    </tr>\n",
              "    <tr>\n",
              "      <th class=\"index_name level0\" >Fold</th>\n",
              "      <th class=\"blank col0\" >&nbsp;</th>\n",
              "      <th class=\"blank col1\" >&nbsp;</th>\n",
              "      <th class=\"blank col2\" >&nbsp;</th>\n",
              "      <th class=\"blank col3\" >&nbsp;</th>\n",
              "      <th class=\"blank col4\" >&nbsp;</th>\n",
              "      <th class=\"blank col5\" >&nbsp;</th>\n",
              "    </tr>\n",
              "  </thead>\n",
              "  <tbody>\n",
              "    <tr>\n",
              "      <th id=\"T_c092d_level0_row0\" class=\"row_heading level0 row0\" >0</th>\n",
              "      <td id=\"T_c092d_row0_col0\" class=\"data row0 col0\" >0.5932</td>\n",
              "      <td id=\"T_c092d_row0_col1\" class=\"data row0 col1\" >0.6933</td>\n",
              "      <td id=\"T_c092d_row0_col2\" class=\"data row0 col2\" >0.8327</td>\n",
              "      <td id=\"T_c092d_row0_col3\" class=\"data row0 col3\" >0.8364</td>\n",
              "      <td id=\"T_c092d_row0_col4\" class=\"data row0 col4\" >0.2540</td>\n",
              "      <td id=\"T_c092d_row0_col5\" class=\"data row0 col5\" >0.9435</td>\n",
              "    </tr>\n",
              "    <tr>\n",
              "      <th id=\"T_c092d_level0_row1\" class=\"row_heading level0 row1\" >1</th>\n",
              "      <td id=\"T_c092d_row1_col0\" class=\"data row1 col0\" >0.5668</td>\n",
              "      <td id=\"T_c092d_row1_col1\" class=\"data row1 col1\" >0.6113</td>\n",
              "      <td id=\"T_c092d_row1_col2\" class=\"data row1 col2\" >0.7819</td>\n",
              "      <td id=\"T_c092d_row1_col3\" class=\"data row1 col3\" >0.8588</td>\n",
              "      <td id=\"T_c092d_row1_col4\" class=\"data row1 col4\" >0.2326</td>\n",
              "      <td id=\"T_c092d_row1_col5\" class=\"data row1 col5\" >0.4343</td>\n",
              "    </tr>\n",
              "    <tr>\n",
              "      <th id=\"T_c092d_level0_row2\" class=\"row_heading level0 row2\" >2</th>\n",
              "      <td id=\"T_c092d_row2_col0\" class=\"data row2 col0\" >0.5120</td>\n",
              "      <td id=\"T_c092d_row2_col1\" class=\"data row2 col1\" >0.5037</td>\n",
              "      <td id=\"T_c092d_row2_col2\" class=\"data row2 col2\" >0.7097</td>\n",
              "      <td id=\"T_c092d_row2_col3\" class=\"data row2 col3\" >0.8755</td>\n",
              "      <td id=\"T_c092d_row2_col4\" class=\"data row2 col4\" >0.2171</td>\n",
              "      <td id=\"T_c092d_row2_col5\" class=\"data row2 col5\" >0.4809</td>\n",
              "    </tr>\n",
              "    <tr>\n",
              "      <th id=\"T_c092d_level0_row3\" class=\"row_heading level0 row3\" >3</th>\n",
              "      <td id=\"T_c092d_row3_col0\" class=\"data row3 col0\" >0.5079</td>\n",
              "      <td id=\"T_c092d_row3_col1\" class=\"data row3 col1\" >0.5621</td>\n",
              "      <td id=\"T_c092d_row3_col2\" class=\"data row3 col2\" >0.7497</td>\n",
              "      <td id=\"T_c092d_row3_col3\" class=\"data row3 col3\" >0.8622</td>\n",
              "      <td id=\"T_c092d_row3_col4\" class=\"data row3 col4\" >0.1638</td>\n",
              "      <td id=\"T_c092d_row3_col5\" class=\"data row3 col5\" >0.3300</td>\n",
              "    </tr>\n",
              "    <tr>\n",
              "      <th id=\"T_c092d_level0_row4\" class=\"row_heading level0 row4\" >4</th>\n",
              "      <td id=\"T_c092d_row4_col0\" class=\"data row4 col0\" >0.4462</td>\n",
              "      <td id=\"T_c092d_row4_col1\" class=\"data row4 col1\" >0.3846</td>\n",
              "      <td id=\"T_c092d_row4_col2\" class=\"data row4 col2\" >0.6202</td>\n",
              "      <td id=\"T_c092d_row4_col3\" class=\"data row4 col3\" >0.9237</td>\n",
              "      <td id=\"T_c092d_row4_col4\" class=\"data row4 col4\" >0.1732</td>\n",
              "      <td id=\"T_c092d_row4_col5\" class=\"data row4 col5\" >0.2557</td>\n",
              "    </tr>\n",
              "    <tr>\n",
              "      <th id=\"T_c092d_level0_row5\" class=\"row_heading level0 row5\" >5</th>\n",
              "      <td id=\"T_c092d_row5_col0\" class=\"data row5 col0\" >0.5201</td>\n",
              "      <td id=\"T_c092d_row5_col1\" class=\"data row5 col1\" >0.5122</td>\n",
              "      <td id=\"T_c092d_row5_col2\" class=\"data row5 col2\" >0.7157</td>\n",
              "      <td id=\"T_c092d_row5_col3\" class=\"data row5 col3\" >0.8918</td>\n",
              "      <td id=\"T_c092d_row5_col4\" class=\"data row5 col4\" >0.1966</td>\n",
              "      <td id=\"T_c092d_row5_col5\" class=\"data row5 col5\" >1.0461</td>\n",
              "    </tr>\n",
              "    <tr>\n",
              "      <th id=\"T_c092d_level0_row6\" class=\"row_heading level0 row6\" >6</th>\n",
              "      <td id=\"T_c092d_row6_col0\" class=\"data row6 col0\" >0.4798</td>\n",
              "      <td id=\"T_c092d_row6_col1\" class=\"data row6 col1\" >0.4205</td>\n",
              "      <td id=\"T_c092d_row6_col2\" class=\"data row6 col2\" >0.6485</td>\n",
              "      <td id=\"T_c092d_row6_col3\" class=\"data row6 col3\" >0.9118</td>\n",
              "      <td id=\"T_c092d_row6_col4\" class=\"data row6 col4\" >0.2051</td>\n",
              "      <td id=\"T_c092d_row6_col5\" class=\"data row6 col5\" >2.3710</td>\n",
              "    </tr>\n",
              "    <tr>\n",
              "      <th id=\"T_c092d_level0_row7\" class=\"row_heading level0 row7\" >7</th>\n",
              "      <td id=\"T_c092d_row7_col0\" class=\"data row7 col0\" >0.5414</td>\n",
              "      <td id=\"T_c092d_row7_col1\" class=\"data row7 col1\" >0.6250</td>\n",
              "      <td id=\"T_c092d_row7_col2\" class=\"data row7 col2\" >0.7906</td>\n",
              "      <td id=\"T_c092d_row7_col3\" class=\"data row7 col3\" >0.8287</td>\n",
              "      <td id=\"T_c092d_row7_col4\" class=\"data row7 col4\" >0.2358</td>\n",
              "      <td id=\"T_c092d_row7_col5\" class=\"data row7 col5\" >0.7149</td>\n",
              "    </tr>\n",
              "    <tr>\n",
              "      <th id=\"T_c092d_level0_row8\" class=\"row_heading level0 row8\" >8</th>\n",
              "      <td id=\"T_c092d_row8_col0\" class=\"data row8 col0\" >0.5496</td>\n",
              "      <td id=\"T_c092d_row8_col1\" class=\"data row8 col1\" >0.6130</td>\n",
              "      <td id=\"T_c092d_row8_col2\" class=\"data row8 col2\" >0.7829</td>\n",
              "      <td id=\"T_c092d_row8_col3\" class=\"data row8 col3\" >0.8507</td>\n",
              "      <td id=\"T_c092d_row8_col4\" class=\"data row8 col4\" >0.2352</td>\n",
              "      <td id=\"T_c092d_row8_col5\" class=\"data row8 col5\" >0.4349</td>\n",
              "    </tr>\n",
              "    <tr>\n",
              "      <th id=\"T_c092d_level0_row9\" class=\"row_heading level0 row9\" >9</th>\n",
              "      <td id=\"T_c092d_row9_col0\" class=\"data row9 col0\" >0.5771</td>\n",
              "      <td id=\"T_c092d_row9_col1\" class=\"data row9 col1\" >0.5821</td>\n",
              "      <td id=\"T_c092d_row9_col2\" class=\"data row9 col2\" >0.7630</td>\n",
              "      <td id=\"T_c092d_row9_col3\" class=\"data row9 col3\" >0.8809</td>\n",
              "      <td id=\"T_c092d_row9_col4\" class=\"data row9 col4\" >0.1924</td>\n",
              "      <td id=\"T_c092d_row9_col5\" class=\"data row9 col5\" >0.3172</td>\n",
              "    </tr>\n",
              "    <tr>\n",
              "      <th id=\"T_c092d_level0_row10\" class=\"row_heading level0 row10\" >Mean</th>\n",
              "      <td id=\"T_c092d_row10_col0\" class=\"data row10 col0\" >0.5294</td>\n",
              "      <td id=\"T_c092d_row10_col1\" class=\"data row10 col1\" >0.5508</td>\n",
              "      <td id=\"T_c092d_row10_col2\" class=\"data row10 col2\" >0.7395</td>\n",
              "      <td id=\"T_c092d_row10_col3\" class=\"data row10 col3\" >0.8720</td>\n",
              "      <td id=\"T_c092d_row10_col4\" class=\"data row10 col4\" >0.2106</td>\n",
              "      <td id=\"T_c092d_row10_col5\" class=\"data row10 col5\" >0.7329</td>\n",
              "    </tr>\n",
              "    <tr>\n",
              "      <th id=\"T_c092d_level0_row11\" class=\"row_heading level0 row11\" >Std</th>\n",
              "      <td id=\"T_c092d_row11_col0\" class=\"data row11 col0\" >0.0430</td>\n",
              "      <td id=\"T_c092d_row11_col1\" class=\"data row11 col1\" >0.0910</td>\n",
              "      <td id=\"T_c092d_row11_col2\" class=\"data row11 col2\" >0.0629</td>\n",
              "      <td id=\"T_c092d_row11_col3\" class=\"data row11 col3\" >0.0293</td>\n",
              "      <td id=\"T_c092d_row11_col4\" class=\"data row11 col4\" >0.0279</td>\n",
              "      <td id=\"T_c092d_row11_col5\" class=\"data row11 col5\" >0.6025</td>\n",
              "    </tr>\n",
              "  </tbody>\n",
              "</table>\n"
            ],
            "text/plain": [
              "<pandas.io.formats.style.Styler at 0x7b2ad55263e0>"
            ]
          },
          "metadata": {},
          "output_type": "display_data"
        },
        {
          "data": {
            "application/vnd.jupyter.widget-view+json": {
              "model_id": "b4e7579c76d44646934e1c4971d80870",
              "version_major": 2,
              "version_minor": 0
            },
            "text/plain": [
              "Processing:   0%|          | 0/4 [00:00<?, ?it/s]"
            ]
          },
          "metadata": {
            "application/vnd.jupyter.widget-view+json": {
              "colab": {
                "custom_widget_manager": {
                  "url": "https://ssl.gstatic.com/colaboratory-static/widgets/colab-cdn-widget-manager/b3e629b1971e1542/manager.min.js"
                }
              }
            }
          },
          "output_type": "display_data"
        },
        {
          "data": {
            "text/html": [],
            "text/plain": [
              "<IPython.core.display.HTML object>"
            ]
          },
          "metadata": {},
          "output_type": "display_data"
        }
      ],
      "source": [
        "et_reg = create_model('et') # 10-folds"
      ]
    },
    {
      "cell_type": "markdown",
      "metadata": {
        "id": "OQFuEre7S0z1"
      },
      "source": [
        "## Hyperparameter tuning"
      ]
    },
    {
      "cell_type": "markdown",
      "metadata": {
        "id": "W2Mmbe6sTQwB"
      },
      "source": [
        "We will tune the hyperparameters of the model based on the Mean Absolute Error (MAE) over 50 iterations"
      ]
    },
    {
      "cell_type": "code",
      "execution_count": 7,
      "metadata": {
        "colab": {
          "base_uri": "https://localhost:8080/",
          "height": 493,
          "referenced_widgets": [
            "7d0de4d486ea4e4899e6e2165db43e1d",
            "a12d5d3810f04ee9ace061abc6d2e684",
            "9dce0938bf4542fe9a070291d0d8dcd0",
            "bacd53dbce6641e1bcde4492fb00fff9",
            "cb559958c1be4aac8e0949218a42db1d",
            "c31ec3e95b3248a096f69f0a80261592",
            "5b368631e20c4cc1a93663eaea5bd5f5",
            "20068e2e394445a0bbd6bead8c241fa2",
            "c1adbddee06442f1b7c3d6cd5a8ea667",
            "8f3af66c482044a287ed79aa3b5a63b1",
            "1920f430ea2d449f8b70efe4c90cfd29"
          ]
        },
        "id": "QZVRJ_RwS3Pe",
        "outputId": "dcd46599-b5d9-4cd7-8b35-088cac7cc325"
      },
      "outputs": [
        {
          "data": {
            "text/html": [],
            "text/plain": [
              "<IPython.core.display.HTML object>"
            ]
          },
          "metadata": {},
          "output_type": "display_data"
        },
        {
          "data": {
            "text/html": [
              "<style type=\"text/css\">\n",
              "#T_f5988_row10_col0, #T_f5988_row10_col1, #T_f5988_row10_col2, #T_f5988_row10_col3, #T_f5988_row10_col4, #T_f5988_row10_col5 {\n",
              "  background: yellow;\n",
              "}\n",
              "</style>\n",
              "<table id=\"T_f5988\" class=\"dataframe\">\n",
              "  <thead>\n",
              "    <tr>\n",
              "      <th class=\"blank level0\" >&nbsp;</th>\n",
              "      <th id=\"T_f5988_level0_col0\" class=\"col_heading level0 col0\" >MAE</th>\n",
              "      <th id=\"T_f5988_level0_col1\" class=\"col_heading level0 col1\" >MSE</th>\n",
              "      <th id=\"T_f5988_level0_col2\" class=\"col_heading level0 col2\" >RMSE</th>\n",
              "      <th id=\"T_f5988_level0_col3\" class=\"col_heading level0 col3\" >R2</th>\n",
              "      <th id=\"T_f5988_level0_col4\" class=\"col_heading level0 col4\" >RMSLE</th>\n",
              "      <th id=\"T_f5988_level0_col5\" class=\"col_heading level0 col5\" >MAPE</th>\n",
              "    </tr>\n",
              "    <tr>\n",
              "      <th class=\"index_name level0\" >Fold</th>\n",
              "      <th class=\"blank col0\" >&nbsp;</th>\n",
              "      <th class=\"blank col1\" >&nbsp;</th>\n",
              "      <th class=\"blank col2\" >&nbsp;</th>\n",
              "      <th class=\"blank col3\" >&nbsp;</th>\n",
              "      <th class=\"blank col4\" >&nbsp;</th>\n",
              "      <th class=\"blank col5\" >&nbsp;</th>\n",
              "    </tr>\n",
              "  </thead>\n",
              "  <tbody>\n",
              "    <tr>\n",
              "      <th id=\"T_f5988_level0_row0\" class=\"row_heading level0 row0\" >0</th>\n",
              "      <td id=\"T_f5988_row0_col0\" class=\"data row0 col0\" >0.6129</td>\n",
              "      <td id=\"T_f5988_row0_col1\" class=\"data row0 col1\" >0.7098</td>\n",
              "      <td id=\"T_f5988_row0_col2\" class=\"data row0 col2\" >0.8425</td>\n",
              "      <td id=\"T_f5988_row0_col3\" class=\"data row0 col3\" >0.8325</td>\n",
              "      <td id=\"T_f5988_row0_col4\" class=\"data row0 col4\" >0.2607</td>\n",
              "      <td id=\"T_f5988_row0_col5\" class=\"data row0 col5\" >0.6651</td>\n",
              "    </tr>\n",
              "    <tr>\n",
              "      <th id=\"T_f5988_level0_row1\" class=\"row_heading level0 row1\" >1</th>\n",
              "      <td id=\"T_f5988_row1_col0\" class=\"data row1 col0\" >0.5861</td>\n",
              "      <td id=\"T_f5988_row1_col1\" class=\"data row1 col1\" >0.6251</td>\n",
              "      <td id=\"T_f5988_row1_col2\" class=\"data row1 col2\" >0.7906</td>\n",
              "      <td id=\"T_f5988_row1_col3\" class=\"data row1 col3\" >0.8556</td>\n",
              "      <td id=\"T_f5988_row1_col4\" class=\"data row1 col4\" >0.2394</td>\n",
              "      <td id=\"T_f5988_row1_col5\" class=\"data row1 col5\" >0.5202</td>\n",
              "    </tr>\n",
              "    <tr>\n",
              "      <th id=\"T_f5988_level0_row2\" class=\"row_heading level0 row2\" >2</th>\n",
              "      <td id=\"T_f5988_row2_col0\" class=\"data row2 col0\" >0.6037</td>\n",
              "      <td id=\"T_f5988_row2_col1\" class=\"data row2 col1\" >0.5941</td>\n",
              "      <td id=\"T_f5988_row2_col2\" class=\"data row2 col2\" >0.7708</td>\n",
              "      <td id=\"T_f5988_row2_col3\" class=\"data row2 col3\" >0.8531</td>\n",
              "      <td id=\"T_f5988_row2_col4\" class=\"data row2 col4\" >0.2272</td>\n",
              "      <td id=\"T_f5988_row2_col5\" class=\"data row2 col5\" >0.4572</td>\n",
              "    </tr>\n",
              "    <tr>\n",
              "      <th id=\"T_f5988_level0_row3\" class=\"row_heading level0 row3\" >3</th>\n",
              "      <td id=\"T_f5988_row3_col0\" class=\"data row3 col0\" >0.5742</td>\n",
              "      <td id=\"T_f5988_row3_col1\" class=\"data row3 col1\" >0.6333</td>\n",
              "      <td id=\"T_f5988_row3_col2\" class=\"data row3 col2\" >0.7958</td>\n",
              "      <td id=\"T_f5988_row3_col3\" class=\"data row3 col3\" >0.8448</td>\n",
              "      <td id=\"T_f5988_row3_col4\" class=\"data row3 col4\" >0.1820</td>\n",
              "      <td id=\"T_f5988_row3_col5\" class=\"data row3 col5\" >0.6187</td>\n",
              "    </tr>\n",
              "    <tr>\n",
              "      <th id=\"T_f5988_level0_row4\" class=\"row_heading level0 row4\" >4</th>\n",
              "      <td id=\"T_f5988_row4_col0\" class=\"data row4 col0\" >0.4780</td>\n",
              "      <td id=\"T_f5988_row4_col1\" class=\"data row4 col1\" >0.3825</td>\n",
              "      <td id=\"T_f5988_row4_col2\" class=\"data row4 col2\" >0.6185</td>\n",
              "      <td id=\"T_f5988_row4_col3\" class=\"data row4 col3\" >0.9241</td>\n",
              "      <td id=\"T_f5988_row4_col4\" class=\"data row4 col4\" >0.1674</td>\n",
              "      <td id=\"T_f5988_row4_col5\" class=\"data row4 col5\" >0.2713</td>\n",
              "    </tr>\n",
              "    <tr>\n",
              "      <th id=\"T_f5988_level0_row5\" class=\"row_heading level0 row5\" >5</th>\n",
              "      <td id=\"T_f5988_row5_col0\" class=\"data row5 col0\" >0.5422</td>\n",
              "      <td id=\"T_f5988_row5_col1\" class=\"data row5 col1\" >0.5186</td>\n",
              "      <td id=\"T_f5988_row5_col2\" class=\"data row5 col2\" >0.7201</td>\n",
              "      <td id=\"T_f5988_row5_col3\" class=\"data row5 col3\" >0.8904</td>\n",
              "      <td id=\"T_f5988_row5_col4\" class=\"data row5 col4\" >0.1976</td>\n",
              "      <td id=\"T_f5988_row5_col5\" class=\"data row5 col5\" >1.1158</td>\n",
              "    </tr>\n",
              "    <tr>\n",
              "      <th id=\"T_f5988_level0_row6\" class=\"row_heading level0 row6\" >6</th>\n",
              "      <td id=\"T_f5988_row6_col0\" class=\"data row6 col0\" >0.5328</td>\n",
              "      <td id=\"T_f5988_row6_col1\" class=\"data row6 col1\" >0.4567</td>\n",
              "      <td id=\"T_f5988_row6_col2\" class=\"data row6 col2\" >0.6758</td>\n",
              "      <td id=\"T_f5988_row6_col3\" class=\"data row6 col3\" >0.9042</td>\n",
              "      <td id=\"T_f5988_row6_col4\" class=\"data row6 col4\" >0.2082</td>\n",
              "      <td id=\"T_f5988_row6_col5\" class=\"data row6 col5\" >2.1618</td>\n",
              "    </tr>\n",
              "    <tr>\n",
              "      <th id=\"T_f5988_level0_row7\" class=\"row_heading level0 row7\" >7</th>\n",
              "      <td id=\"T_f5988_row7_col0\" class=\"data row7 col0\" >0.5480</td>\n",
              "      <td id=\"T_f5988_row7_col1\" class=\"data row7 col1\" >0.5644</td>\n",
              "      <td id=\"T_f5988_row7_col2\" class=\"data row7 col2\" >0.7513</td>\n",
              "      <td id=\"T_f5988_row7_col3\" class=\"data row7 col3\" >0.8453</td>\n",
              "      <td id=\"T_f5988_row7_col4\" class=\"data row7 col4\" >0.2320</td>\n",
              "      <td id=\"T_f5988_row7_col5\" class=\"data row7 col5\" >0.9326</td>\n",
              "    </tr>\n",
              "    <tr>\n",
              "      <th id=\"T_f5988_level0_row8\" class=\"row_heading level0 row8\" >8</th>\n",
              "      <td id=\"T_f5988_row8_col0\" class=\"data row8 col0\" >0.6096</td>\n",
              "      <td id=\"T_f5988_row8_col1\" class=\"data row8 col1\" >0.6441</td>\n",
              "      <td id=\"T_f5988_row8_col2\" class=\"data row8 col2\" >0.8025</td>\n",
              "      <td id=\"T_f5988_row8_col3\" class=\"data row8 col3\" >0.8431</td>\n",
              "      <td id=\"T_f5988_row8_col4\" class=\"data row8 col4\" >0.2493</td>\n",
              "      <td id=\"T_f5988_row8_col5\" class=\"data row8 col5\" >0.4939</td>\n",
              "    </tr>\n",
              "    <tr>\n",
              "      <th id=\"T_f5988_level0_row9\" class=\"row_heading level0 row9\" >9</th>\n",
              "      <td id=\"T_f5988_row9_col0\" class=\"data row9 col0\" >0.5909</td>\n",
              "      <td id=\"T_f5988_row9_col1\" class=\"data row9 col1\" >0.5798</td>\n",
              "      <td id=\"T_f5988_row9_col2\" class=\"data row9 col2\" >0.7615</td>\n",
              "      <td id=\"T_f5988_row9_col3\" class=\"data row9 col3\" >0.8814</td>\n",
              "      <td id=\"T_f5988_row9_col4\" class=\"data row9 col4\" >0.1939</td>\n",
              "      <td id=\"T_f5988_row9_col5\" class=\"data row9 col5\" >0.3474</td>\n",
              "    </tr>\n",
              "    <tr>\n",
              "      <th id=\"T_f5988_level0_row10\" class=\"row_heading level0 row10\" >Mean</th>\n",
              "      <td id=\"T_f5988_row10_col0\" class=\"data row10 col0\" >0.5679</td>\n",
              "      <td id=\"T_f5988_row10_col1\" class=\"data row10 col1\" >0.5708</td>\n",
              "      <td id=\"T_f5988_row10_col2\" class=\"data row10 col2\" >0.7529</td>\n",
              "      <td id=\"T_f5988_row10_col3\" class=\"data row10 col3\" >0.8675</td>\n",
              "      <td id=\"T_f5988_row10_col4\" class=\"data row10 col4\" >0.2158</td>\n",
              "      <td id=\"T_f5988_row10_col5\" class=\"data row10 col5\" >0.7584</td>\n",
              "    </tr>\n",
              "    <tr>\n",
              "      <th id=\"T_f5988_level0_row11\" class=\"row_heading level0 row11\" >Std</th>\n",
              "      <td id=\"T_f5988_row11_col0\" class=\"data row11 col0\" >0.0404</td>\n",
              "      <td id=\"T_f5988_row11_col1\" class=\"data row11 col1\" >0.0913</td>\n",
              "      <td id=\"T_f5988_row11_col2\" class=\"data row11 col2\" >0.0627</td>\n",
              "      <td id=\"T_f5988_row11_col3\" class=\"data row11 col3\" >0.0291</td>\n",
              "      <td id=\"T_f5988_row11_col4\" class=\"data row11 col4\" >0.0290</td>\n",
              "      <td id=\"T_f5988_row11_col5\" class=\"data row11 col5\" >0.5272</td>\n",
              "    </tr>\n",
              "  </tbody>\n",
              "</table>\n"
            ],
            "text/plain": [
              "<pandas.io.formats.style.Styler at 0x7b2ad55241c0>"
            ]
          },
          "metadata": {},
          "output_type": "display_data"
        },
        {
          "data": {
            "application/vnd.jupyter.widget-view+json": {
              "model_id": "7d0de4d486ea4e4899e6e2165db43e1d",
              "version_major": 2,
              "version_minor": 0
            },
            "text/plain": [
              "Processing:   0%|          | 0/7 [00:00<?, ?it/s]"
            ]
          },
          "metadata": {
            "application/vnd.jupyter.widget-view+json": {
              "colab": {
                "custom_widget_manager": {
                  "url": "https://ssl.gstatic.com/colaboratory-static/widgets/colab-cdn-widget-manager/b3e629b1971e1542/manager.min.js"
                }
              }
            }
          },
          "output_type": "display_data"
        },
        {
          "name": "stdout",
          "output_type": "stream",
          "text": [
            "Fitting 10 folds for each of 50 candidates, totalling 500 fits\n"
          ]
        },
        {
          "data": {
            "text/html": [],
            "text/plain": [
              "<IPython.core.display.HTML object>"
            ]
          },
          "metadata": {},
          "output_type": "display_data"
        },
        {
          "name": "stdout",
          "output_type": "stream",
          "text": [
            "Original model was better than the tuned model, hence it will be returned. NOTE: The display metrics are for the tuned model (not the original one).\n"
          ]
        }
      ],
      "source": [
        "tuned_et_reg = tune_model(et_reg, n_iter=50, optimize='mae')"
      ]
    },
    {
      "cell_type": "markdown",
      "metadata": {
        "id": "TZIIq0ibV7V8"
      },
      "source": [
        "We will continue using the original model since it was better than the tuned model"
      ]
    },
    {
      "cell_type": "markdown",
      "metadata": {
        "id": "EQ-nPaQVWD5Y"
      },
      "source": [
        "## Model analysis"
      ]
    },
    {
      "cell_type": "markdown",
      "metadata": {
        "id": "39rmD1bSWveo"
      },
      "source": [
        "### Plots"
      ]
    },
    {
      "cell_type": "markdown",
      "metadata": {
        "id": "IQlegabkWoPV"
      },
      "source": [
        "#### Residuals"
      ]
    },
    {
      "cell_type": "code",
      "execution_count": 10,
      "metadata": {
        "colab": {
          "base_uri": "https://localhost:8080/",
          "height": 524
        },
        "id": "_mmneklwWGBU",
        "outputId": "113c5e79-2efd-441b-aabe-94b41db1dc66"
      },
      "outputs": [
        {
          "data": {
            "text/html": [],
            "text/plain": [
              "<IPython.core.display.HTML object>"
            ]
          },
          "metadata": {},
          "output_type": "display_data"
        },
        {
          "data": {
            "image/png": "[encoded data removed]",
            "text/plain": [
              "<Figure size 800x550 with 2 Axes>"
            ]
          },
          "metadata": {},
          "output_type": "display_data"
        }
      ],
      "source": [
        "plot_model(et_reg, 'residuals')"
      ]
    },
    {
      "cell_type": "markdown",
      "metadata": {
        "id": "gdPIGsd6W8PP"
      },
      "source": [
        "#### Error"
      ]
    },
    {
      "cell_type": "code",
      "execution_count": 11,
      "metadata": {
        "colab": {
          "base_uri": "https://localhost:8080/",
          "height": 526
        },
        "id": "rzOj1rUyW9r4",
        "outputId": "274df269-2f5b-4ac6-8728-6aeb0d9f09c1"
      },
      "outputs": [
        {
          "data": {
            "text/html": [],
            "text/plain": [
              "<IPython.core.display.HTML object>"
            ]
          },
          "metadata": {},
          "output_type": "display_data"
        },
        {
          "data": {
            "image/png": "[encoded data removed]",
            "text/plain": [
              "<Figure size 800x550 with 1 Axes>"
            ]
          },
          "metadata": {},
          "output_type": "display_data"
        }
      ],
      "source": [
        "plot_model(et_reg, 'error')"
      ]
    },
    {
      "cell_type": "markdown",
      "metadata": {
        "id": "UAF8CH6EXivV"
      },
      "source": [
        "#### Cooks distance"
      ]
    },
    {
      "cell_type": "code",
      "execution_count": 21,
      "metadata": {
        "colab": {
          "base_uri": "https://localhost:8080/",
          "height": 524
        },
        "id": "MivxL46ZXcQP",
        "outputId": "ebfdc080-9cd0-4871-aae8-28c7c26c48e3"
      },
      "outputs": [
        {
          "data": {
            "text/html": [],
            "text/plain": [
              "<IPython.core.display.HTML object>"
            ]
          },
          "metadata": {},
          "output_type": "display_data"
        },
        {
          "data": {
            "image/png": "[encoded data removed]",
            "text/plain": [
              "<Figure size 800x550 with 1 Axes>"
            ]
          },
          "metadata": {},
          "output_type": "display_data"
        }
      ],
      "source": [
        "plot_model(et_reg, 'cooks')"
      ]
    },
    {
      "cell_type": "markdown",
      "metadata": {
        "id": "DAgaxQzSXsYh"
      },
      "source": [
        "#### Recursive Feature Selection"
      ]
    },
    {
      "cell_type": "code",
      "execution_count": 15,
      "metadata": {
        "colab": {
          "base_uri": "https://localhost:8080/",
          "height": 524
        },
        "id": "bw69nQc_XvIA",
        "outputId": "7582a711-17b9-413c-f884-23dc45801413"
      },
      "outputs": [
        {
          "data": {
            "text/html": [],
            "text/plain": [
              "<IPython.core.display.HTML object>"
            ]
          },
          "metadata": {},
          "output_type": "display_data"
        },
        {
          "data": {
            "image/png": "[encoded data removed]",
            "text/plain": [
              "<Figure size 800x550 with 1 Axes>"
            ]
          },
          "metadata": {},
          "output_type": "display_data"
        }
      ],
      "source": [
        "plot_model(et_reg, 'rfe')"
      ]
    },
    {
      "cell_type": "markdown",
      "metadata": {
        "id": "I78WalgGXcle"
      },
      "source": [
        "#### Learning curve"
      ]
    },
    {
      "cell_type": "code",
      "execution_count": 13,
      "metadata": {
        "colab": {
          "base_uri": "https://localhost:8080/",
          "height": 524
        },
        "id": "0J90jNOYXPhQ",
        "outputId": "c96b8bdf-e33b-4786-cbcc-43b0d204e502"
      },
      "outputs": [
        {
          "data": {
            "text/html": [],
            "text/plain": [
              "<IPython.core.display.HTML object>"
            ]
          },
          "metadata": {},
          "output_type": "display_data"
        },
        {
          "data": {
            "image/png": "[encoded data removed]",
            "text/plain": [
              "<Figure size 800x550 with 1 Axes>"
            ]
          },
          "metadata": {},
          "output_type": "display_data"
        }
      ],
      "source": [
        "plot_model(et_reg, 'learning')"
      ]
    },
    {
      "cell_type": "markdown",
      "metadata": {
        "id": "GShd8xEdYGhT"
      },
      "source": [
        "#### Validation curve"
      ]
    },
    {
      "cell_type": "code",
      "execution_count": 16,
      "metadata": {
        "colab": {
          "base_uri": "https://localhost:8080/",
          "height": 524
        },
        "id": "otEWy7ZeYIOT",
        "outputId": "88d0febe-d750-4b3b-92f2-11a3f06a46e1"
      },
      "outputs": [
        {
          "data": {
            "text/html": [],
            "text/plain": [
              "<IPython.core.display.HTML object>"
            ]
          },
          "metadata": {},
          "output_type": "display_data"
        },
        {
          "data": {
            "image/png": "[encoded data removed]",
            "text/plain": [
              "<Figure size 800x550 with 1 Axes>"
            ]
          },
          "metadata": {},
          "output_type": "display_data"
        }
      ],
      "source": [
        "plot_model(et_reg, 'vc')"
      ]
    },
    {
      "cell_type": "markdown",
      "metadata": {
        "id": "IWPUjjgeYPPW"
      },
      "source": [
        "#### Manifold learning"
      ]
    },
    {
      "cell_type": "code",
      "execution_count": 17,
      "metadata": {
        "colab": {
          "base_uri": "https://localhost:8080/",
          "height": 510
        },
        "id": "i-IZttSvYRsb",
        "outputId": "26b9e034-e4f0-42df-e890-d19c235c5097"
      },
      "outputs": [
        {
          "data": {
            "text/html": [],
            "text/plain": [
              "<IPython.core.display.HTML object>"
            ]
          },
          "metadata": {},
          "output_type": "display_data"
        },
        {
          "data": {
            "image/png": "[encoded data removed]",
            "text/plain": [
              "<Figure size 800x550 with 2 Axes>"
            ]
          },
          "metadata": {},
          "output_type": "display_data"
        }
      ],
      "source": [
        "plot_model(et_reg, 'manifold')"
      ]
    },
    {
      "cell_type": "markdown",
      "metadata": {
        "id": "sTrNVa7PYaKG"
      },
      "source": [
        "#### Feature importance"
      ]
    },
    {
      "cell_type": "code",
      "execution_count": 18,
      "metadata": {
        "colab": {
          "base_uri": "https://localhost:8080/",
          "height": 485
        },
        "id": "rHWFBAKTYcCK",
        "outputId": "672c413d-8ca4-446c-82ac-5eebf3b9b5a4"
      },
      "outputs": [
        {
          "data": {
            "text/html": [],
            "text/plain": [
              "<IPython.core.display.HTML object>"
            ]
          },
          "metadata": {},
          "output_type": "display_data"
        },
        {
          "data": {
            "image/png": "[encoded data removed]",
            "text/plain": [
              "<Figure size 800x500 with 1 Axes>"
            ]
          },
          "metadata": {},
          "output_type": "display_data"
        }
      ],
      "source": [
        "plot_model(et_reg, 'feature')"
      ]
    },
    {
      "cell_type": "markdown",
      "metadata": {
        "id": "1wat1oEIYqJA"
      },
      "source": [
        "#### Model Hyperparameters"
      ]
    },
    {
      "cell_type": "code",
      "execution_count": 20,
      "metadata": {
        "colab": {
          "base_uri": "https://localhost:8080/",
          "height": 582
        },
        "id": "QHnu1Ww8Ysg3",
        "outputId": "c4fee3bf-4750-4908-8242-b6b7f841bafe"
      },
      "outputs": [
        {
          "data": {
            "text/html": [],
            "text/plain": [
              "<IPython.core.display.HTML object>"
            ]
          },
          "metadata": {},
          "output_type": "display_data"
        },
        {
          "data": {
            "text/html": [
              "\n",
              "  <div id=\"df-d92df7b8-2aa7-4d25-babe-02f571ff7197\" class=\"colab-df-container\">\n",
              "    <div>\n",
              "<style scoped>\n",
              "    .dataframe tbody tr th:only-of-type {\n",
              "        vertical-align: middle;\n",
              "    }\n",
              "\n",
              "    .dataframe tbody tr th {\n",
              "        vertical-align: top;\n",
              "    }\n",
              "\n",
              "    .dataframe thead th {\n",
              "        text-align: right;\n",
              "    }\n",
              "</style>\n",
              "<table border=\"1\" class=\"dataframe\">\n",
              "  <thead>\n",
              "    <tr style=\"text-align: right;\">\n",
              "      <th></th>\n",
              "      <th>Parameters</th>\n",
              "    </tr>\n",
              "  </thead>\n",
              "  <tbody>\n",
              "    <tr>\n",
              "      <th>bootstrap</th>\n",
              "      <td>False</td>\n",
              "    </tr>\n",
              "    <tr>\n",
              "      <th>ccp_alpha</th>\n",
              "      <td>0.0</td>\n",
              "    </tr>\n",
              "    <tr>\n",
              "      <th>criterion</th>\n",
              "      <td>squared_error</td>\n",
              "    </tr>\n",
              "    <tr>\n",
              "      <th>max_depth</th>\n",
              "      <td>None</td>\n",
              "    </tr>\n",
              "    <tr>\n",
              "      <th>max_features</th>\n",
              "      <td>1.0</td>\n",
              "    </tr>\n",
              "    <tr>\n",
              "      <th>max_leaf_nodes</th>\n",
              "      <td>None</td>\n",
              "    </tr>\n",
              "    <tr>\n",
              "      <th>max_samples</th>\n",
              "      <td>None</td>\n",
              "    </tr>\n",
              "    <tr>\n",
              "      <th>min_impurity_decrease</th>\n",
              "      <td>0.0</td>\n",
              "    </tr>\n",
              "    <tr>\n",
              "      <th>min_samples_leaf</th>\n",
              "      <td>1</td>\n",
              "    </tr>\n",
              "    <tr>\n",
              "      <th>min_samples_split</th>\n",
              "      <td>2</td>\n",
              "    </tr>\n",
              "    <tr>\n",
              "      <th>min_weight_fraction_leaf</th>\n",
              "      <td>0.0</td>\n",
              "    </tr>\n",
              "    <tr>\n",
              "      <th>n_estimators</th>\n",
              "      <td>100</td>\n",
              "    </tr>\n",
              "    <tr>\n",
              "      <th>n_jobs</th>\n",
              "      <td>-1</td>\n",
              "    </tr>\n",
              "    <tr>\n",
              "      <th>oob_score</th>\n",
              "      <td>False</td>\n",
              "    </tr>\n",
              "    <tr>\n",
              "      <th>random_state</th>\n",
              "      <td>2131</td>\n",
              "    </tr>\n",
              "    <tr>\n",
              "      <th>verbose</th>\n",
              "      <td>0</td>\n",
              "    </tr>\n",
              "    <tr>\n",
              "      <th>warm_start</th>\n",
              "      <td>False</td>\n",
              "    </tr>\n",
              "  </tbody>\n",
              "</table>\n",
              "</div>\n",
              "    <div class=\"colab-df-buttons\">\n",
              "\n",
              "  <div class=\"colab-df-container\">\n",
              "    <button class=\"colab-df-convert\" onclick=\"convertToInteractive('df-d92df7b8-2aa7-4d25-babe-02f571ff7197')\"\n",
              "            title=\"Convert this dataframe to an interactive table.\"\n",
              "            style=\"display:none;\">\n",
              "\n",
              "  <svg xmlns=\"http://www.w3.org/2000/svg\" height=\"24px\" viewBox=\"0 -960 960 960\">\n",
              "    <path d=\"M120-120v-720h720v720H120Zm60-500h600v-160H180v160Zm220 220h160v-160H400v160Zm0 220h160v-160H400v160ZM180-400h160v-160H180v160Zm440 0h160v-160H620v160ZM180-180h160v-160H180v160Zm440 0h160v-160H620v160Z\"/>\n",
              "  </svg>\n",
              "    </button>\n",
              "\n",
              "  <style>\n",
              "    .colab-df-container {\n",
              "      display:flex;\n",
              "      gap: 12px;\n",
              "    }\n",
              "\n",
              "    .colab-df-convert {\n",
              "      background-color: #E8F0FE;\n",
              "      border: none;\n",
              "      border-radius: 50%;\n",
              "      cursor: pointer;\n",
              "      display: none;\n",
              "      fill: #1967D2;\n",
              "      height: 32px;\n",
              "      padding: 0 0 0 0;\n",
              "      width: 32px;\n",
              "    }\n",
              "\n",
              "    .colab-df-convert:hover {\n",
              "      background-color: #E2EBFA;\n",
              "      box-shadow: 0px 1px 2px rgba(60, 64, 67, 0.3), 0px 1px 3px 1px rgba(60, 64, 67, 0.15);\n",
              "      fill: #174EA6;\n",
              "    }\n",
              "\n",
              "    .colab-df-buttons div {\n",
              "      margin-bottom: 4px;\n",
              "    }\n",
              "\n",
              "    [theme=dark] .colab-df-convert {\n",
              "      background-color: #3B4455;\n",
              "      fill: #D2E3FC;\n",
              "    }\n",
              "\n",
              "    [theme=dark] .colab-df-convert:hover {\n",
              "      background-color: #434B5C;\n",
              "      box-shadow: 0px 1px 3px 1px rgba(0, 0, 0, 0.15);\n",
              "      filter: drop-shadow(0px 1px 2px rgba(0, 0, 0, 0.3));\n",
              "      fill: #FFFFFF;\n",
              "    }\n",
              "  </style>\n",
              "\n",
              "    <script>\n",
              "      const buttonEl =\n",
              "        document.querySelector('#df-d92df7b8-2aa7-4d25-babe-02f571ff7197 button.colab-df-convert');\n",
              "      buttonEl.style.display =\n",
              "        google.colab.kernel.accessAllowed ? 'block' : 'none';\n",
              "\n",
              "      async function convertToInteractive(key) {\n",
              "        const element = document.querySelector('#df-d92df7b8-2aa7-4d25-babe-02f571ff7197');\n",
              "        const dataTable =\n",
              "          await google.colab.kernel.invokeFunction('convertToInteractive',\n",
              "                                                    [key], {});\n",
              "        if (!dataTable) return;\n",
              "\n",
              "        const docLinkHtml = 'Like what you see? Visit the ' +\n",
              "          '<a target=\"_blank\" href=https://colab.research.google.com/notebooks/data_table.ipynb>data table notebook</a>'\n",
              "          + ' to learn more about interactive tables.';\n",
              "        element.innerHTML = '';\n",
              "        dataTable['output_type'] = 'display_data';\n",
              "        await google.colab.output.renderOutput(dataTable, element);\n",
              "        const docLink = document.createElement('div');\n",
              "        docLink.innerHTML = docLinkHtml;\n",
              "        element.appendChild(docLink);\n",
              "      }\n",
              "    </script>\n",
              "  </div>\n",
              "\n",
              "\n",
              "<div id=\"df-57b737c7-156e-4bad-8e2b-5e0bf2d72696\">\n",
              "  <button class=\"colab-df-quickchart\" onclick=\"quickchart('df-57b737c7-156e-4bad-8e2b-5e0bf2d72696')\"\n",
              "            title=\"Suggest charts\"\n",
              "            style=\"display:none;\">\n",
              "\n",
              "<svg xmlns=\"http://www.w3.org/2000/svg\" height=\"24px\"viewBox=\"0 0 24 24\"\n",
              "     width=\"24px\">\n",
              "    <g>\n",
              "        <path d=\"M19 3H5c-1.1 0-2 .9-2 2v14c0 1.1.9 2 2 2h14c1.1 0 2-.9 2-2V5c0-1.1-.9-2-2-2zM9 17H7v-7h2v7zm4 0h-2V7h2v10zm4 0h-2v-4h2v4z\"/>\n",
              "    </g>\n",
              "</svg>\n",
              "  </button>\n",
              "\n",
              "<style>\n",
              "  .colab-df-quickchart {\n",
              "      --bg-color: #E8F0FE;\n",
              "      --fill-color: #1967D2;\n",
              "      --hover-bg-color: #E2EBFA;\n",
              "      --hover-fill-color: #174EA6;\n",
              "      --disabled-fill-color: #AAA;\n",
              "      --disabled-bg-color: #DDD;\n",
              "  }\n",
              "\n",
              "  [theme=dark] .colab-df-quickchart {\n",
              "      --bg-color: #3B4455;\n",
              "      --fill-color: #D2E3FC;\n",
              "      --hover-bg-color: #434B5C;\n",
              "      --hover-fill-color: #FFFFFF;\n",
              "      --disabled-bg-color: #3B4455;\n",
              "      --disabled-fill-color: #666;\n",
              "  }\n",
              "\n",
              "  .colab-df-quickchart {\n",
              "    background-color: var(--bg-color);\n",
              "    border: none;\n",
              "    border-radius: 50%;\n",
              "    cursor: pointer;\n",
              "    display: none;\n",
              "    fill: var(--fill-color);\n",
              "    height: 32px;\n",
              "    padding: 0;\n",
              "    width: 32px;\n",
              "  }\n",
              "\n",
              "  .colab-df-quickchart:hover {\n",
              "    background-color: var(--hover-bg-color);\n",
              "    box-shadow: 0 1px 2px rgba(60, 64, 67, 0.3), 0 1px 3px 1px rgba(60, 64, 67, 0.15);\n",
              "    fill: var(--button-hover-fill-color);\n",
              "  }\n",
              "\n",
              "  .colab-df-quickchart-complete:disabled,\n",
              "  .colab-df-quickchart-complete:disabled:hover {\n",
              "    background-color: var(--disabled-bg-color);\n",
              "    fill: var(--disabled-fill-color);\n",
              "    box-shadow: none;\n",
              "  }\n",
              "\n",
              "  .colab-df-spinner {\n",
              "    border: 2px solid var(--fill-color);\n",
              "    border-color: transparent;\n",
              "    border-bottom-color: var(--fill-color);\n",
              "    animation:\n",
              "      spin 1s steps(1) infinite;\n",
              "  }\n",
              "\n",
              "  @keyframes spin {\n",
              "    0% {\n",
              "      border-color: transparent;\n",
              "      border-bottom-color: var(--fill-color);\n",
              "      border-left-color: var(--fill-color);\n",
              "    }\n",
              "    20% {\n",
              "      border-color: transparent;\n",
              "      border-left-color: var(--fill-color);\n",
              "      border-top-color: var(--fill-color);\n",
              "    }\n",
              "    30% {\n",
              "      border-color: transparent;\n",
              "      border-left-color: var(--fill-color);\n",
              "      border-top-color: var(--fill-color);\n",
              "      border-right-color: var(--fill-color);\n",
              "    }\n",
              "    40% {\n",
              "      border-color: transparent;\n",
              "      border-right-color: var(--fill-color);\n",
              "      border-top-color: var(--fill-color);\n",
              "    }\n",
              "    60% {\n",
              "      border-color: transparent;\n",
              "      border-right-color: var(--fill-color);\n",
              "    }\n",
              "    80% {\n",
              "      border-color: transparent;\n",
              "      border-right-color: var(--fill-color);\n",
              "      border-bottom-color: var(--fill-color);\n",
              "    }\n",
              "    90% {\n",
              "      border-color: transparent;\n",
              "      border-bottom-color: var(--fill-color);\n",
              "    }\n",
              "  }\n",
              "</style>\n",
              "\n",
              "  <script>\n",
              "    async function quickchart(key) {\n",
              "      const quickchartButtonEl =\n",
              "        document.querySelector('#' + key + ' button');\n",
              "      quickchartButtonEl.disabled = true;  // To prevent multiple clicks.\n",
              "      quickchartButtonEl.classList.add('colab-df-spinner');\n",
              "      try {\n",
              "        const charts = await google.colab.kernel.invokeFunction(\n",
              "            'suggestCharts', [key], {});\n",
              "      } catch (error) {\n",
              "        console.error('Error during call to suggestCharts:', error);\n",
              "      }\n",
              "      quickchartButtonEl.classList.remove('colab-df-spinner');\n",
              "      quickchartButtonEl.classList.add('colab-df-quickchart-complete');\n",
              "    }\n",
              "    (() => {\n",
              "      let quickchartButtonEl =\n",
              "        document.querySelector('#df-57b737c7-156e-4bad-8e2b-5e0bf2d72696 button');\n",
              "      quickchartButtonEl.style.display =\n",
              "        google.colab.kernel.accessAllowed ? 'block' : 'none';\n",
              "    })();\n",
              "  </script>\n",
              "</div>\n",
              "    </div>\n",
              "  </div>\n"
            ],
            "text/plain": [
              "                             Parameters\n",
              "bootstrap                         False\n",
              "ccp_alpha                           0.0\n",
              "criterion                 squared_error\n",
              "max_depth                          None\n",
              "max_features                        1.0\n",
              "max_leaf_nodes                     None\n",
              "max_samples                        None\n",
              "min_impurity_decrease               0.0\n",
              "min_samples_leaf                      1\n",
              "min_samples_split                     2\n",
              "min_weight_fraction_leaf            0.0\n",
              "n_estimators                        100\n",
              "n_jobs                               -1\n",
              "oob_score                         False\n",
              "random_state                       2131\n",
              "verbose                               0\n",
              "warm_start                        False"
            ]
          },
          "metadata": {},
          "output_type": "display_data"
        }
      ],
      "source": [
        "plot_model(et_reg, 'parameter')"
      ]
    },
    {
      "cell_type": "markdown",
      "metadata": {
        "id": "GyVVuoBdbLw5"
      },
      "source": [
        "## Model Testing"
      ]
    },
    {
      "cell_type": "code",
      "execution_count": 25,
      "metadata": {
        "colab": {
          "base_uri": "https://localhost:8080/",
          "height": 81
        },
        "id": "UUgSHAHQbNtl",
        "outputId": "69674167-0b40-4c57-d12b-390cdffbd165"
      },
      "outputs": [
        {
          "data": {
            "text/html": [
              "<style type=\"text/css\">\n",
              "</style>\n",
              "<table id=\"T_c78e8\" class=\"dataframe\">\n",
              "  <thead>\n",
              "    <tr>\n",
              "      <th class=\"blank level0\" >&nbsp;</th>\n",
              "      <th id=\"T_c78e8_level0_col0\" class=\"col_heading level0 col0\" >Model</th>\n",
              "      <th id=\"T_c78e8_level0_col1\" class=\"col_heading level0 col1\" >MAE</th>\n",
              "      <th id=\"T_c78e8_level0_col2\" class=\"col_heading level0 col2\" >MSE</th>\n",
              "      <th id=\"T_c78e8_level0_col3\" class=\"col_heading level0 col3\" >RMSE</th>\n",
              "      <th id=\"T_c78e8_level0_col4\" class=\"col_heading level0 col4\" >R2</th>\n",
              "      <th id=\"T_c78e8_level0_col5\" class=\"col_heading level0 col5\" >RMSLE</th>\n",
              "      <th id=\"T_c78e8_level0_col6\" class=\"col_heading level0 col6\" >MAPE</th>\n",
              "    </tr>\n",
              "  </thead>\n",
              "  <tbody>\n",
              "    <tr>\n",
              "      <th id=\"T_c78e8_level0_row0\" class=\"row_heading level0 row0\" >0</th>\n",
              "      <td id=\"T_c78e8_row0_col0\" class=\"data row0 col0\" >Extra Trees Regressor</td>\n",
              "      <td id=\"T_c78e8_row0_col1\" class=\"data row0 col1\" >0.5177</td>\n",
              "      <td id=\"T_c78e8_row0_col2\" class=\"data row0 col2\" >0.5154</td>\n",
              "      <td id=\"T_c78e8_row0_col3\" class=\"data row0 col3\" >0.7179</td>\n",
              "      <td id=\"T_c78e8_row0_col4\" class=\"data row0 col4\" >0.8780</td>\n",
              "      <td id=\"T_c78e8_row0_col5\" class=\"data row0 col5\" >0.2103</td>\n",
              "      <td id=\"T_c78e8_row0_col6\" class=\"data row0 col6\" >0.3170</td>\n",
              "    </tr>\n",
              "  </tbody>\n",
              "</table>\n"
            ],
            "text/plain": [
              "<pandas.io.formats.style.Styler at 0x7b2ad45db520>"
            ]
          },
          "metadata": {},
          "output_type": "display_data"
        }
      ],
      "source": [
        "prediction = predict_model(et_reg)"
      ]
    },
    {
      "cell_type": "markdown",
      "metadata": {
        "id": "nMFr4oXmf7LC"
      },
      "source": [
        "Some of the predicted outputs:"
      ]
    },
    {
      "cell_type": "code",
      "execution_count": 27,
      "metadata": {
        "colab": {
          "base_uri": "https://localhost:8080/",
          "height": 206
        },
        "id": "LpyItW3yc3os",
        "outputId": "efb498c3-a7eb-4fcd-e0ae-c62a0b284b70"
      },
      "outputs": [
        {
          "data": {
            "text/html": [
              "\n",
              "  <div id=\"df-4885848f-779c-4016-82b8-05967fba33a6\" class=\"colab-df-container\">\n",
              "    <div>\n",
              "<style scoped>\n",
              "    .dataframe tbody tr th:only-of-type {\n",
              "        vertical-align: middle;\n",
              "    }\n",
              "\n",
              "    .dataframe tbody tr th {\n",
              "        vertical-align: top;\n",
              "    }\n",
              "\n",
              "    .dataframe thead th {\n",
              "        text-align: right;\n",
              "    }\n",
              "</style>\n",
              "<table border=\"1\" class=\"dataframe\">\n",
              "  <thead>\n",
              "    <tr style=\"text-align: right;\">\n",
              "      <th></th>\n",
              "      <th>MolLogP</th>\n",
              "      <th>MolWt</th>\n",
              "      <th>NumRotatableBonds</th>\n",
              "      <th>AromaticProportion</th>\n",
              "      <th>logS</th>\n",
              "      <th>prediction_label</th>\n",
              "    </tr>\n",
              "  </thead>\n",
              "  <tbody>\n",
              "    <tr>\n",
              "      <th>1044</th>\n",
              "      <td>2.8296</td>\n",
              "      <td>253.304993</td>\n",
              "      <td>1</td>\n",
              "      <td>0.631579</td>\n",
              "      <td>-3.324</td>\n",
              "      <td>-3.797408</td>\n",
              "    </tr>\n",
              "    <tr>\n",
              "      <th>405</th>\n",
              "      <td>4.1020</td>\n",
              "      <td>182.225998</td>\n",
              "      <td>2</td>\n",
              "      <td>0.857143</td>\n",
              "      <td>-4.450</td>\n",
              "      <td>-4.750643</td>\n",
              "    </tr>\n",
              "    <tr>\n",
              "      <th>287</th>\n",
              "      <td>1.2314</td>\n",
              "      <td>86.134003</td>\n",
              "      <td>1</td>\n",
              "      <td>0.000000</td>\n",
              "      <td>-0.120</td>\n",
              "      <td>-0.180100</td>\n",
              "    </tr>\n",
              "    <tr>\n",
              "      <th>972</th>\n",
              "      <td>1.6034</td>\n",
              "      <td>153.136993</td>\n",
              "      <td>2</td>\n",
              "      <td>0.545455</td>\n",
              "      <td>-2.410</td>\n",
              "      <td>-1.960000</td>\n",
              "    </tr>\n",
              "    <tr>\n",
              "      <th>859</th>\n",
              "      <td>2.8398</td>\n",
              "      <td>128.173996</td>\n",
              "      <td>0</td>\n",
              "      <td>1.000000</td>\n",
              "      <td>-3.600</td>\n",
              "      <td>-2.950000</td>\n",
              "    </tr>\n",
              "  </tbody>\n",
              "</table>\n",
              "</div>\n",
              "    <div class=\"colab-df-buttons\">\n",
              "\n",
              "  <div class=\"colab-df-container\">\n",
              "    <button class=\"colab-df-convert\" onclick=\"convertToInteractive('df-4885848f-779c-4016-82b8-05967fba33a6')\"\n",
              "            title=\"Convert this dataframe to an interactive table.\"\n",
              "            style=\"display:none;\">\n",
              "\n",
              "  <svg xmlns=\"http://www.w3.org/2000/svg\" height=\"24px\" viewBox=\"0 -960 960 960\">\n",
              "    <path d=\"M120-120v-720h720v720H120Zm60-500h600v-160H180v160Zm220 220h160v-160H400v160Zm0 220h160v-160H400v160ZM180-400h160v-160H180v160Zm440 0h160v-160H620v160ZM180-180h160v-160H180v160Zm440 0h160v-160H620v160Z\"/>\n",
              "  </svg>\n",
              "    </button>\n",
              "\n",
              "  <style>\n",
              "    .colab-df-container {\n",
              "      display:flex;\n",
              "      gap: 12px;\n",
              "    }\n",
              "\n",
              "    .colab-df-convert {\n",
              "      background-color: #E8F0FE;\n",
              "      border: none;\n",
              "      border-radius: 50%;\n",
              "      cursor: pointer;\n",
              "      display: none;\n",
              "      fill: #1967D2;\n",
              "      height: 32px;\n",
              "      padding: 0 0 0 0;\n",
              "      width: 32px;\n",
              "    }\n",
              "\n",
              "    .colab-df-convert:hover {\n",
              "      background-color: #E2EBFA;\n",
              "      box-shadow: 0px 1px 2px rgba(60, 64, 67, 0.3), 0px 1px 3px 1px rgba(60, 64, 67, 0.15);\n",
              "      fill: #174EA6;\n",
              "    }\n",
              "\n",
              "    .colab-df-buttons div {\n",
              "      margin-bottom: 4px;\n",
              "    }\n",
              "\n",
              "    [theme=dark] .colab-df-convert {\n",
              "      background-color: #3B4455;\n",
              "      fill: #D2E3FC;\n",
              "    }\n",
              "\n",
              "    [theme=dark] .colab-df-convert:hover {\n",
              "      background-color: #434B5C;\n",
              "      box-shadow: 0px 1px 3px 1px rgba(0, 0, 0, 0.15);\n",
              "      filter: drop-shadow(0px 1px 2px rgba(0, 0, 0, 0.3));\n",
              "      fill: #FFFFFF;\n",
              "    }\n",
              "  </style>\n",
              "\n",
              "    <script>\n",
              "      const buttonEl =\n",
              "        document.querySelector('#df-4885848f-779c-4016-82b8-05967fba33a6 button.colab-df-convert');\n",
              "      buttonEl.style.display =\n",
              "        google.colab.kernel.accessAllowed ? 'block' : 'none';\n",
              "\n",
              "      async function convertToInteractive(key) {\n",
              "        const element = document.querySelector('#df-4885848f-779c-4016-82b8-05967fba33a6');\n",
              "        const dataTable =\n",
              "          await google.colab.kernel.invokeFunction('convertToInteractive',\n",
              "                                                    [key], {});\n",
              "        if (!dataTable) return;\n",
              "\n",
              "        const docLinkHtml = 'Like what you see? Visit the ' +\n",
              "          '<a target=\"_blank\" href=https://colab.research.google.com/notebooks/data_table.ipynb>data table notebook</a>'\n",
              "          + ' to learn more about interactive tables.';\n",
              "        element.innerHTML = '';\n",
              "        dataTable['output_type'] = 'display_data';\n",
              "        await google.colab.output.renderOutput(dataTable, element);\n",
              "        const docLink = document.createElement('div');\n",
              "        docLink.innerHTML = docLinkHtml;\n",
              "        element.appendChild(docLink);\n",
              "      }\n",
              "    </script>\n",
              "  </div>\n",
              "\n",
              "\n",
              "<div id=\"df-6545ec0d-9017-40d5-9c25-aee4c6437415\">\n",
              "  <button class=\"colab-df-quickchart\" onclick=\"quickchart('df-6545ec0d-9017-40d5-9c25-aee4c6437415')\"\n",
              "            title=\"Suggest charts\"\n",
              "            style=\"display:none;\">\n",
              "\n",
              "<svg xmlns=\"http://www.w3.org/2000/svg\" height=\"24px\"viewBox=\"0 0 24 24\"\n",
              "     width=\"24px\">\n",
              "    <g>\n",
              "        <path d=\"M19 3H5c-1.1 0-2 .9-2 2v14c0 1.1.9 2 2 2h14c1.1 0 2-.9 2-2V5c0-1.1-.9-2-2-2zM9 17H7v-7h2v7zm4 0h-2V7h2v10zm4 0h-2v-4h2v4z\"/>\n",
              "    </g>\n",
              "</svg>\n",
              "  </button>\n",
              "\n",
              "<style>\n",
              "  .colab-df-quickchart {\n",
              "      --bg-color: #E8F0FE;\n",
              "      --fill-color: #1967D2;\n",
              "      --hover-bg-color: #E2EBFA;\n",
              "      --hover-fill-color: #174EA6;\n",
              "      --disabled-fill-color: #AAA;\n",
              "      --disabled-bg-color: #DDD;\n",
              "  }\n",
              "\n",
              "  [theme=dark] .colab-df-quickchart {\n",
              "      --bg-color: #3B4455;\n",
              "      --fill-color: #D2E3FC;\n",
              "      --hover-bg-color: #434B5C;\n",
              "      --hover-fill-color: #FFFFFF;\n",
              "      --disabled-bg-color: #3B4455;\n",
              "      --disabled-fill-color: #666;\n",
              "  }\n",
              "\n",
              "  .colab-df-quickchart {\n",
              "    background-color: var(--bg-color);\n",
              "    border: none;\n",
              "    border-radius: 50%;\n",
              "    cursor: pointer;\n",
              "    display: none;\n",
              "    fill: var(--fill-color);\n",
              "    height: 32px;\n",
              "    padding: 0;\n",
              "    width: 32px;\n",
              "  }\n",
              "\n",
              "  .colab-df-quickchart:hover {\n",
              "    background-color: var(--hover-bg-color);\n",
              "    box-shadow: 0 1px 2px rgba(60, 64, 67, 0.3), 0 1px 3px 1px rgba(60, 64, 67, 0.15);\n",
              "    fill: var(--button-hover-fill-color);\n",
              "  }\n",
              "\n",
              "  .colab-df-quickchart-complete:disabled,\n",
              "  .colab-df-quickchart-complete:disabled:hover {\n",
              "    background-color: var(--disabled-bg-color);\n",
              "    fill: var(--disabled-fill-color);\n",
              "    box-shadow: none;\n",
              "  }\n",
              "\n",
              "  .colab-df-spinner {\n",
              "    border: 2px solid var(--fill-color);\n",
              "    border-color: transparent;\n",
              "    border-bottom-color: var(--fill-color);\n",
              "    animation:\n",
              "      spin 1s steps(1) infinite;\n",
              "  }\n",
              "\n",
              "  @keyframes spin {\n",
              "    0% {\n",
              "      border-color: transparent;\n",
              "      border-bottom-color: var(--fill-color);\n",
              "      border-left-color: var(--fill-color);\n",
              "    }\n",
              "    20% {\n",
              "      border-color: transparent;\n",
              "      border-left-color: var(--fill-color);\n",
              "      border-top-color: var(--fill-color);\n",
              "    }\n",
              "    30% {\n",
              "      border-color: transparent;\n",
              "      border-left-color: var(--fill-color);\n",
              "      border-top-color: var(--fill-color);\n",
              "      border-right-color: var(--fill-color);\n",
              "    }\n",
              "    40% {\n",
              "      border-color: transparent;\n",
              "      border-right-color: var(--fill-color);\n",
              "      border-top-color: var(--fill-color);\n",
              "    }\n",
              "    60% {\n",
              "      border-color: transparent;\n",
              "      border-right-color: var(--fill-color);\n",
              "    }\n",
              "    80% {\n",
              "      border-color: transparent;\n",
              "      border-right-color: var(--fill-color);\n",
              "      border-bottom-color: var(--fill-color);\n",
              "    }\n",
              "    90% {\n",
              "      border-color: transparent;\n",
              "      border-bottom-color: var(--fill-color);\n",
              "    }\n",
              "  }\n",
              "</style>\n",
              "\n",
              "  <script>\n",
              "    async function quickchart(key) {\n",
              "      const quickchartButtonEl =\n",
              "        document.querySelector('#' + key + ' button');\n",
              "      quickchartButtonEl.disabled = true;  // To prevent multiple clicks.\n",
              "      quickchartButtonEl.classList.add('colab-df-spinner');\n",
              "      try {\n",
              "        const charts = await google.colab.kernel.invokeFunction(\n",
              "            'suggestCharts', [key], {});\n",
              "      } catch (error) {\n",
              "        console.error('Error during call to suggestCharts:', error);\n",
              "      }\n",
              "      quickchartButtonEl.classList.remove('colab-df-spinner');\n",
              "      quickchartButtonEl.classList.add('colab-df-quickchart-complete');\n",
              "    }\n",
              "    (() => {\n",
              "      let quickchartButtonEl =\n",
              "        document.querySelector('#df-6545ec0d-9017-40d5-9c25-aee4c6437415 button');\n",
              "      quickchartButtonEl.style.display =\n",
              "        google.colab.kernel.accessAllowed ? 'block' : 'none';\n",
              "    })();\n",
              "  </script>\n",
              "</div>\n",
              "    </div>\n",
              "  </div>\n"
            ],
            "text/plain": [
              "      MolLogP       MolWt  NumRotatableBonds  AromaticProportion   logS  \\\n",
              "1044   2.8296  253.304993                  1            0.631579 -3.324   \n",
              "405    4.1020  182.225998                  2            0.857143 -4.450   \n",
              "287    1.2314   86.134003                  1            0.000000 -0.120   \n",
              "972    1.6034  153.136993                  2            0.545455 -2.410   \n",
              "859    2.8398  128.173996                  0            1.000000 -3.600   \n",
              "\n",
              "      prediction_label  \n",
              "1044         -3.797408  \n",
              "405          -4.750643  \n",
              "287          -0.180100  \n",
              "972          -1.960000  \n",
              "859          -2.950000  "
            ]
          },
          "execution_count": 27,
          "metadata": {},
          "output_type": "execute_result"
        }
      ],
      "source": [
        "prediction.head()"
      ]
    }
  ],
  "metadata": {
    "colab": {
      "provenance": []
    },
    "kernelspec": {
      "display_name": "Python 3",
      "name": "python3"
    },
    "language_info": {
      "name": "python",
      "version": "3.9.7"
    },
    "widgets": {
      "application/vnd.jupyter.widget-state+json": {
        "08b22d411be240b28fcc435693ee7e37": {
          "model_module": "@jupyter-widgets/controls",
          "model_module_version": "1.5.0",
          "model_name": "DescriptionStyleModel",
          "state": {
            "_model_module": "@jupyter-widgets/controls",
            "_model_module_version": "1.5.0",
            "_model_name": "DescriptionStyleModel",
            "_view_count": null,
            "_view_module": "@jupyter-widgets/base",
            "_view_module_version": "1.2.0",
            "_view_name": "StyleView",
            "description_width": ""
          }
        },
        "1920f430ea2d449f8b70efe4c90cfd29": {
          "model_module": "@jupyter-widgets/controls",
          "model_module_version": "1.5.0",
          "model_name": "DescriptionStyleModel",
          "state": {
            "_model_module": "@jupyter-widgets/controls",
            "_model_module_version": "1.5.0",
            "_model_name": "DescriptionStyleModel",
            "_view_count": null,
            "_view_module": "@jupyter-widgets/base",
            "_view_module_version": "1.2.0",
            "_view_name": "StyleView",
            "description_width": ""
          }
        },
        "1fcc23747d4a4290b4960b2064697df9": {
          "model_module": "@jupyter-widgets/controls",
          "model_module_version": "1.5.0",
          "model_name": "FloatProgressModel",
          "state": {
            "_dom_classes": [],
            "_model_module": "@jupyter-widgets/controls",
            "_model_module_version": "1.5.0",
            "_model_name": "FloatProgressModel",
            "_view_count": null,
            "_view_module": "@jupyter-widgets/controls",
            "_view_module_version": "1.5.0",
            "_view_name": "ProgressView",
            "bar_style": "",
            "description": "",
            "description_tooltip": null,
            "layout": "IPY_MODEL_d8d03fc1d4964b72aad9a622eda42538",
            "max": 4,
            "min": 0,
            "orientation": "horizontal",
            "style": "IPY_MODEL_fb49c34256524a63b2179b552ca987ec",
            "value": 4
          }
        },
        "20068e2e394445a0bbd6bead8c241fa2": {
          "model_module": "@jupyter-widgets/base",
          "model_module_version": "1.2.0",
          "model_name": "LayoutModel",
          "state": {
            "_model_module": "@jupyter-widgets/base",
            "_model_module_version": "1.2.0",
            "_model_name": "LayoutModel",
            "_view_count": null,
            "_view_module": "@jupyter-widgets/base",
            "_view_module_version": "1.2.0",
            "_view_name": "LayoutView",
            "align_content": null,
            "align_items": null,
            "align_self": null,
            "border": null,
            "bottom": null,
            "display": null,
            "flex": null,
            "flex_flow": null,
            "grid_area": null,
            "grid_auto_columns": null,
            "grid_auto_flow": null,
            "grid_auto_rows": null,
            "grid_column": null,
            "grid_gap": null,
            "grid_row": null,
            "grid_template_areas": null,
            "grid_template_columns": null,
            "grid_template_rows": null,
            "height": null,
            "justify_content": null,
            "justify_items": null,
            "left": null,
            "margin": null,
            "max_height": null,
            "max_width": null,
            "min_height": null,
            "min_width": null,
            "object_fit": null,
            "object_position": null,
            "order": null,
            "overflow": null,
            "overflow_x": null,
            "overflow_y": null,
            "padding": null,
            "right": null,
            "top": null,
            "visibility": null,
            "width": null
          }
        },
        "2acc149fef7441899fa0a7481c5ec668": {
          "model_module": "@jupyter-widgets/base",
          "model_module_version": "1.2.0",
          "model_name": "LayoutModel",
          "state": {
            "_model_module": "@jupyter-widgets/base",
            "_model_module_version": "1.2.0",
            "_model_name": "LayoutModel",
            "_view_count": null,
            "_view_module": "@jupyter-widgets/base",
            "_view_module_version": "1.2.0",
            "_view_name": "LayoutView",
            "align_content": null,
            "align_items": null,
            "align_self": null,
            "border": null,
            "bottom": null,
            "display": null,
            "flex": null,
            "flex_flow": null,
            "grid_area": null,
            "grid_auto_columns": null,
            "grid_auto_flow": null,
            "grid_auto_rows": null,
            "grid_column": null,
            "grid_gap": null,
            "grid_row": null,
            "grid_template_areas": null,
            "grid_template_columns": null,
            "grid_template_rows": null,
            "height": null,
            "justify_content": null,
            "justify_items": null,
            "left": null,
            "margin": null,
            "max_height": null,
            "max_width": null,
            "min_height": null,
            "min_width": null,
            "object_fit": null,
            "object_position": null,
            "order": null,
            "overflow": null,
            "overflow_x": null,
            "overflow_y": null,
            "padding": null,
            "right": null,
            "top": null,
            "visibility": null,
            "width": null
          }
        },
        "32170dba5d024f30838bbed80b9d6be5": {
          "model_module": "@jupyter-widgets/base",
          "model_module_version": "1.2.0",
          "model_name": "LayoutModel",
          "state": {
            "_model_module": "@jupyter-widgets/base",
            "_model_module_version": "1.2.0",
            "_model_name": "LayoutModel",
            "_view_count": null,
            "_view_module": "@jupyter-widgets/base",
            "_view_module_version": "1.2.0",
            "_view_name": "LayoutView",
            "align_content": null,
            "align_items": null,
            "align_self": null,
            "border": null,
            "bottom": null,
            "display": null,
            "flex": null,
            "flex_flow": null,
            "grid_area": null,
            "grid_auto_columns": null,
            "grid_auto_flow": null,
            "grid_auto_rows": null,
            "grid_column": null,
            "grid_gap": null,
            "grid_row": null,
            "grid_template_areas": null,
            "grid_template_columns": null,
            "grid_template_rows": null,
            "height": null,
            "justify_content": null,
            "justify_items": null,
            "left": null,
            "margin": null,
            "max_height": null,
            "max_width": null,
            "min_height": null,
            "min_width": null,
            "object_fit": null,
            "object_position": null,
            "order": null,
            "overflow": null,
            "overflow_x": null,
            "overflow_y": null,
            "padding": null,
            "right": null,
            "top": null,
            "visibility": null,
            "width": null
          }
        },
        "3f206ddf9db94e9bad64672a02220cf8": {
          "model_module": "@jupyter-widgets/base",
          "model_module_version": "1.2.0",
          "model_name": "LayoutModel",
          "state": {
            "_model_module": "@jupyter-widgets/base",
            "_model_module_version": "1.2.0",
            "_model_name": "LayoutModel",
            "_view_count": null,
            "_view_module": "@jupyter-widgets/base",
            "_view_module_version": "1.2.0",
            "_view_name": "LayoutView",
            "align_content": null,
            "align_items": null,
            "align_self": null,
            "border": null,
            "bottom": null,
            "display": null,
            "flex": null,
            "flex_flow": null,
            "grid_area": null,
            "grid_auto_columns": null,
            "grid_auto_flow": null,
            "grid_auto_rows": null,
            "grid_column": null,
            "grid_gap": null,
            "grid_row": null,
            "grid_template_areas": null,
            "grid_template_columns": null,
            "grid_template_rows": null,
            "height": null,
            "justify_content": null,
            "justify_items": null,
            "left": null,
            "margin": null,
            "max_height": null,
            "max_width": null,
            "min_height": null,
            "min_width": null,
            "object_fit": null,
            "object_position": null,
            "order": null,
            "overflow": null,
            "overflow_x": null,
            "overflow_y": null,
            "padding": null,
            "right": null,
            "top": null,
            "visibility": "hidden",
            "width": null
          }
        },
        "51c5f809ced74952b49df3427a396d00": {
          "model_module": "@jupyter-widgets/controls",
          "model_module_version": "1.5.0",
          "model_name": "DescriptionStyleModel",
          "state": {
            "_model_module": "@jupyter-widgets/controls",
            "_model_module_version": "1.5.0",
            "_model_name": "DescriptionStyleModel",
            "_view_count": null,
            "_view_module": "@jupyter-widgets/base",
            "_view_module_version": "1.2.0",
            "_view_name": "StyleView",
            "description_width": ""
          }
        },
        "5410108e5ca449c4864b49d1ec343a92": {
          "model_module": "@jupyter-widgets/controls",
          "model_module_version": "1.5.0",
          "model_name": "HBoxModel",
          "state": {
            "_dom_classes": [],
            "_model_module": "@jupyter-widgets/controls",
            "_model_module_version": "1.5.0",
            "_model_name": "HBoxModel",
            "_view_count": null,
            "_view_module": "@jupyter-widgets/controls",
            "_view_module_version": "1.5.0",
            "_view_name": "HBoxView",
            "box_style": "",
            "children": [
              "IPY_MODEL_a94e51a087f4432f98869eb3d54d3f71",
              "IPY_MODEL_c5d9d8af59dd4f5ab3c93a0acb905e18",
              "IPY_MODEL_c426a816502f4f03bf0235fe406fc99d"
            ],
            "layout": "IPY_MODEL_6187b321926a4ace8937ea4662a0794f"
          }
        },
        "5b368631e20c4cc1a93663eaea5bd5f5": {
          "model_module": "@jupyter-widgets/controls",
          "model_module_version": "1.5.0",
          "model_name": "DescriptionStyleModel",
          "state": {
            "_model_module": "@jupyter-widgets/controls",
            "_model_module_version": "1.5.0",
            "_model_name": "DescriptionStyleModel",
            "_view_count": null,
            "_view_module": "@jupyter-widgets/base",
            "_view_module_version": "1.2.0",
            "_view_name": "StyleView",
            "description_width": ""
          }
        },
        "5f69f094d97247daa3a15f8e6553aef7": {
          "model_module": "@jupyter-widgets/controls",
          "model_module_version": "1.5.0",
          "model_name": "HTMLModel",
          "state": {
            "_dom_classes": [],
            "_model_module": "@jupyter-widgets/controls",
            "_model_module_version": "1.5.0",
            "_model_name": "HTMLModel",
            "_view_count": null,
            "_view_module": "@jupyter-widgets/controls",
            "_view_module_version": "1.5.0",
            "_view_name": "HTMLView",
            "description": "",
            "description_tooltip": null,
            "layout": "IPY_MODEL_85135269475f42f8bd07eba892cd44e0",
            "placeholder": "​",
            "style": "IPY_MODEL_08b22d411be240b28fcc435693ee7e37",
            "value": " 4/4 [00:03&lt;00:00,  1.11it/s]"
          }
        },
        "6187b321926a4ace8937ea4662a0794f": {
          "model_module": "@jupyter-widgets/base",
          "model_module_version": "1.2.0",
          "model_name": "LayoutModel",
          "state": {
            "_model_module": "@jupyter-widgets/base",
            "_model_module_version": "1.2.0",
            "_model_name": "LayoutModel",
            "_view_count": null,
            "_view_module": "@jupyter-widgets/base",
            "_view_module_version": "1.2.0",
            "_view_name": "LayoutView",
            "align_content": null,
            "align_items": null,
            "align_self": null,
            "border": null,
            "bottom": null,
            "display": null,
            "flex": null,
            "flex_flow": null,
            "grid_area": null,
            "grid_auto_columns": null,
            "grid_auto_flow": null,
            "grid_auto_rows": null,
            "grid_column": null,
            "grid_gap": null,
            "grid_row": null,
            "grid_template_areas": null,
            "grid_template_columns": null,
            "grid_template_rows": null,
            "height": null,
            "justify_content": null,
            "justify_items": null,
            "left": null,
            "margin": null,
            "max_height": null,
            "max_width": null,
            "min_height": null,
            "min_width": null,
            "object_fit": null,
            "object_position": null,
            "order": null,
            "overflow": null,
            "overflow_x": null,
            "overflow_y": null,
            "padding": null,
            "right": null,
            "top": null,
            "visibility": "hidden",
            "width": null
          }
        },
        "7d0de4d486ea4e4899e6e2165db43e1d": {
          "model_module": "@jupyter-widgets/controls",
          "model_module_version": "1.5.0",
          "model_name": "HBoxModel",
          "state": {
            "_dom_classes": [],
            "_model_module": "@jupyter-widgets/controls",
            "_model_module_version": "1.5.0",
            "_model_name": "HBoxModel",
            "_view_count": null,
            "_view_module": "@jupyter-widgets/controls",
            "_view_module_version": "1.5.0",
            "_view_name": "HBoxView",
            "box_style": "",
            "children": [
              "IPY_MODEL_a12d5d3810f04ee9ace061abc6d2e684",
              "IPY_MODEL_9dce0938bf4542fe9a070291d0d8dcd0",
              "IPY_MODEL_bacd53dbce6641e1bcde4492fb00fff9"
            ],
            "layout": "IPY_MODEL_cb559958c1be4aac8e0949218a42db1d"
          }
        },
        "85135269475f42f8bd07eba892cd44e0": {
          "model_module": "@jupyter-widgets/base",
          "model_module_version": "1.2.0",
          "model_name": "LayoutModel",
          "state": {
            "_model_module": "@jupyter-widgets/base",
            "_model_module_version": "1.2.0",
            "_model_name": "LayoutModel",
            "_view_count": null,
            "_view_module": "@jupyter-widgets/base",
            "_view_module_version": "1.2.0",
            "_view_name": "LayoutView",
            "align_content": null,
            "align_items": null,
            "align_self": null,
            "border": null,
            "bottom": null,
            "display": null,
            "flex": null,
            "flex_flow": null,
            "grid_area": null,
            "grid_auto_columns": null,
            "grid_auto_flow": null,
            "grid_auto_rows": null,
            "grid_column": null,
            "grid_gap": null,
            "grid_row": null,
            "grid_template_areas": null,
            "grid_template_columns": null,
            "grid_template_rows": null,
            "height": null,
            "justify_content": null,
            "justify_items": null,
            "left": null,
            "margin": null,
            "max_height": null,
            "max_width": null,
            "min_height": null,
            "min_width": null,
            "object_fit": null,
            "object_position": null,
            "order": null,
            "overflow": null,
            "overflow_x": null,
            "overflow_y": null,
            "padding": null,
            "right": null,
            "top": null,
            "visibility": null,
            "width": null
          }
        },
        "8f3af66c482044a287ed79aa3b5a63b1": {
          "model_module": "@jupyter-widgets/base",
          "model_module_version": "1.2.0",
          "model_name": "LayoutModel",
          "state": {
            "_model_module": "@jupyter-widgets/base",
            "_model_module_version": "1.2.0",
            "_model_name": "LayoutModel",
            "_view_count": null,
            "_view_module": "@jupyter-widgets/base",
            "_view_module_version": "1.2.0",
            "_view_name": "LayoutView",
            "align_content": null,
            "align_items": null,
            "align_self": null,
            "border": null,
            "bottom": null,
            "display": null,
            "flex": null,
            "flex_flow": null,
            "grid_area": null,
            "grid_auto_columns": null,
            "grid_auto_flow": null,
            "grid_auto_rows": null,
            "grid_column": null,
            "grid_gap": null,
            "grid_row": null,
            "grid_template_areas": null,
            "grid_template_columns": null,
            "grid_template_rows": null,
            "height": null,
            "justify_content": null,
            "justify_items": null,
            "left": null,
            "margin": null,
            "max_height": null,
            "max_width": null,
            "min_height": null,
            "min_width": null,
            "object_fit": null,
            "object_position": null,
            "order": null,
            "overflow": null,
            "overflow_x": null,
            "overflow_y": null,
            "padding": null,
            "right": null,
            "top": null,
            "visibility": null,
            "width": null
          }
        },
        "9dce0938bf4542fe9a070291d0d8dcd0": {
          "model_module": "@jupyter-widgets/controls",
          "model_module_version": "1.5.0",
          "model_name": "FloatProgressModel",
          "state": {
            "_dom_classes": [],
            "_model_module": "@jupyter-widgets/controls",
            "_model_module_version": "1.5.0",
            "_model_name": "FloatProgressModel",
            "_view_count": null,
            "_view_module": "@jupyter-widgets/controls",
            "_view_module_version": "1.5.0",
            "_view_name": "ProgressView",
            "bar_style": "",
            "description": "",
            "description_tooltip": null,
            "layout": "IPY_MODEL_20068e2e394445a0bbd6bead8c241fa2",
            "max": 7,
            "min": 0,
            "orientation": "horizontal",
            "style": "IPY_MODEL_c1adbddee06442f1b7c3d6cd5a8ea667",
            "value": 7
          }
        },
        "a12d5d3810f04ee9ace061abc6d2e684": {
          "model_module": "@jupyter-widgets/controls",
          "model_module_version": "1.5.0",
          "model_name": "HTMLModel",
          "state": {
            "_dom_classes": [],
            "_model_module": "@jupyter-widgets/controls",
            "_model_module_version": "1.5.0",
            "_model_name": "HTMLModel",
            "_view_count": null,
            "_view_module": "@jupyter-widgets/controls",
            "_view_module_version": "1.5.0",
            "_view_name": "HTMLView",
            "description": "",
            "description_tooltip": null,
            "layout": "IPY_MODEL_c31ec3e95b3248a096f69f0a80261592",
            "placeholder": "​",
            "style": "IPY_MODEL_5b368631e20c4cc1a93663eaea5bd5f5",
            "value": "Processing: 100%"
          }
        },
        "a1c6ac304fba4a7a8682b13d313617c5": {
          "model_module": "@jupyter-widgets/base",
          "model_module_version": "1.2.0",
          "model_name": "LayoutModel",
          "state": {
            "_model_module": "@jupyter-widgets/base",
            "_model_module_version": "1.2.0",
            "_model_name": "LayoutModel",
            "_view_count": null,
            "_view_module": "@jupyter-widgets/base",
            "_view_module_version": "1.2.0",
            "_view_name": "LayoutView",
            "align_content": null,
            "align_items": null,
            "align_self": null,
            "border": null,
            "bottom": null,
            "display": null,
            "flex": null,
            "flex_flow": null,
            "grid_area": null,
            "grid_auto_columns": null,
            "grid_auto_flow": null,
            "grid_auto_rows": null,
            "grid_column": null,
            "grid_gap": null,
            "grid_row": null,
            "grid_template_areas": null,
            "grid_template_columns": null,
            "grid_template_rows": null,
            "height": null,
            "justify_content": null,
            "justify_items": null,
            "left": null,
            "margin": null,
            "max_height": null,
            "max_width": null,
            "min_height": null,
            "min_width": null,
            "object_fit": null,
            "object_position": null,
            "order": null,
            "overflow": null,
            "overflow_x": null,
            "overflow_y": null,
            "padding": null,
            "right": null,
            "top": null,
            "visibility": null,
            "width": null
          }
        },
        "a94e51a087f4432f98869eb3d54d3f71": {
          "model_module": "@jupyter-widgets/controls",
          "model_module_version": "1.5.0",
          "model_name": "HTMLModel",
          "state": {
            "_dom_classes": [],
            "_model_module": "@jupyter-widgets/controls",
            "_model_module_version": "1.5.0",
            "_model_name": "HTMLModel",
            "_view_count": null,
            "_view_module": "@jupyter-widgets/controls",
            "_view_module_version": "1.5.0",
            "_view_name": "HTMLView",
            "description": "",
            "description_tooltip": null,
            "layout": "IPY_MODEL_2acc149fef7441899fa0a7481c5ec668",
            "placeholder": "​",
            "style": "IPY_MODEL_51c5f809ced74952b49df3427a396d00",
            "value": "Processing: 100%"
          }
        },
        "ac341eca37314aca8663b809bccc8956": {
          "model_module": "@jupyter-widgets/controls",
          "model_module_version": "1.5.0",
          "model_name": "HTMLModel",
          "state": {
            "_dom_classes": [],
            "_model_module": "@jupyter-widgets/controls",
            "_model_module_version": "1.5.0",
            "_model_name": "HTMLModel",
            "_view_count": null,
            "_view_module": "@jupyter-widgets/controls",
            "_view_module_version": "1.5.0",
            "_view_name": "HTMLView",
            "description": "",
            "description_tooltip": null,
            "layout": "IPY_MODEL_32170dba5d024f30838bbed80b9d6be5",
            "placeholder": "​",
            "style": "IPY_MODEL_df6c4b5a3af5493191642f564696379d",
            "value": "Processing: 100%"
          }
        },
        "b4e7579c76d44646934e1c4971d80870": {
          "model_module": "@jupyter-widgets/controls",
          "model_module_version": "1.5.0",
          "model_name": "HBoxModel",
          "state": {
            "_dom_classes": [],
            "_model_module": "@jupyter-widgets/controls",
            "_model_module_version": "1.5.0",
            "_model_name": "HBoxModel",
            "_view_count": null,
            "_view_module": "@jupyter-widgets/controls",
            "_view_module_version": "1.5.0",
            "_view_name": "HBoxView",
            "box_style": "",
            "children": [
              "IPY_MODEL_ac341eca37314aca8663b809bccc8956",
              "IPY_MODEL_1fcc23747d4a4290b4960b2064697df9",
              "IPY_MODEL_5f69f094d97247daa3a15f8e6553aef7"
            ],
            "layout": "IPY_MODEL_3f206ddf9db94e9bad64672a02220cf8"
          }
        },
        "bacd53dbce6641e1bcde4492fb00fff9": {
          "model_module": "@jupyter-widgets/controls",
          "model_module_version": "1.5.0",
          "model_name": "HTMLModel",
          "state": {
            "_dom_classes": [],
            "_model_module": "@jupyter-widgets/controls",
            "_model_module_version": "1.5.0",
            "_model_name": "HTMLModel",
            "_view_count": null,
            "_view_module": "@jupyter-widgets/controls",
            "_view_module_version": "1.5.0",
            "_view_name": "HTMLView",
            "description": "",
            "description_tooltip": null,
            "layout": "IPY_MODEL_8f3af66c482044a287ed79aa3b5a63b1",
            "placeholder": "​",
            "style": "IPY_MODEL_1920f430ea2d449f8b70efe4c90cfd29",
            "value": " 7/7 [03:12&lt;00:00, 20.79s/it]"
          }
        },
        "c1adbddee06442f1b7c3d6cd5a8ea667": {
          "model_module": "@jupyter-widgets/controls",
          "model_module_version": "1.5.0",
          "model_name": "ProgressStyleModel",
          "state": {
            "_model_module": "@jupyter-widgets/controls",
            "_model_module_version": "1.5.0",
            "_model_name": "ProgressStyleModel",
            "_view_count": null,
            "_view_module": "@jupyter-widgets/base",
            "_view_module_version": "1.2.0",
            "_view_name": "StyleView",
            "bar_color": null,
            "description_width": ""
          }
        },
        "c31ec3e95b3248a096f69f0a80261592": {
          "model_module": "@jupyter-widgets/base",
          "model_module_version": "1.2.0",
          "model_name": "LayoutModel",
          "state": {
            "_model_module": "@jupyter-widgets/base",
            "_model_module_version": "1.2.0",
            "_model_name": "LayoutModel",
            "_view_count": null,
            "_view_module": "@jupyter-widgets/base",
            "_view_module_version": "1.2.0",
            "_view_name": "LayoutView",
            "align_content": null,
            "align_items": null,
            "align_self": null,
            "border": null,
            "bottom": null,
            "display": null,
            "flex": null,
            "flex_flow": null,
            "grid_area": null,
            "grid_auto_columns": null,
            "grid_auto_flow": null,
            "grid_auto_rows": null,
            "grid_column": null,
            "grid_gap": null,
            "grid_row": null,
            "grid_template_areas": null,
            "grid_template_columns": null,
            "grid_template_rows": null,
            "height": null,
            "justify_content": null,
            "justify_items": null,
            "left": null,
            "margin": null,
            "max_height": null,
            "max_width": null,
            "min_height": null,
            "min_width": null,
            "object_fit": null,
            "object_position": null,
            "order": null,
            "overflow": null,
            "overflow_x": null,
            "overflow_y": null,
            "padding": null,
            "right": null,
            "top": null,
            "visibility": null,
            "width": null
          }
        },
        "c426a816502f4f03bf0235fe406fc99d": {
          "model_module": "@jupyter-widgets/controls",
          "model_module_version": "1.5.0",
          "model_name": "HTMLModel",
          "state": {
            "_dom_classes": [],
            "_model_module": "@jupyter-widgets/controls",
            "_model_module_version": "1.5.0",
            "_model_name": "HTMLModel",
            "_view_count": null,
            "_view_module": "@jupyter-widgets/controls",
            "_view_module_version": "1.5.0",
            "_view_name": "HTMLView",
            "description": "",
            "description_tooltip": null,
            "layout": "IPY_MODEL_e2c5438c80984320a9a6c2beda19d954",
            "placeholder": "​",
            "style": "IPY_MODEL_dd91dcf826704390971f038af29f0360",
            "value": " 81/81 [00:34&lt;00:00,  2.36it/s]"
          }
        },
        "c4dac2f9e28e450a90850afa81b61049": {
          "model_module": "@jupyter-widgets/controls",
          "model_module_version": "1.5.0",
          "model_name": "ProgressStyleModel",
          "state": {
            "_model_module": "@jupyter-widgets/controls",
            "_model_module_version": "1.5.0",
            "_model_name": "ProgressStyleModel",
            "_view_count": null,
            "_view_module": "@jupyter-widgets/base",
            "_view_module_version": "1.2.0",
            "_view_name": "StyleView",
            "bar_color": null,
            "description_width": ""
          }
        },
        "c5d9d8af59dd4f5ab3c93a0acb905e18": {
          "model_module": "@jupyter-widgets/controls",
          "model_module_version": "1.5.0",
          "model_name": "FloatProgressModel",
          "state": {
            "_dom_classes": [],
            "_model_module": "@jupyter-widgets/controls",
            "_model_module_version": "1.5.0",
            "_model_name": "FloatProgressModel",
            "_view_count": null,
            "_view_module": "@jupyter-widgets/controls",
            "_view_module_version": "1.5.0",
            "_view_name": "ProgressView",
            "bar_style": "",
            "description": "",
            "description_tooltip": null,
            "layout": "IPY_MODEL_a1c6ac304fba4a7a8682b13d313617c5",
            "max": 81,
            "min": 0,
            "orientation": "horizontal",
            "style": "IPY_MODEL_c4dac2f9e28e450a90850afa81b61049",
            "value": 81
          }
        },
        "cb559958c1be4aac8e0949218a42db1d": {
          "model_module": "@jupyter-widgets/base",
          "model_module_version": "1.2.0",
          "model_name": "LayoutModel",
          "state": {
            "_model_module": "@jupyter-widgets/base",
            "_model_module_version": "1.2.0",
            "_model_name": "LayoutModel",
            "_view_count": null,
            "_view_module": "@jupyter-widgets/base",
            "_view_module_version": "1.2.0",
            "_view_name": "LayoutView",
            "align_content": null,
            "align_items": null,
            "align_self": null,
            "border": null,
            "bottom": null,
            "display": null,
            "flex": null,
            "flex_flow": null,
            "grid_area": null,
            "grid_auto_columns": null,
            "grid_auto_flow": null,
            "grid_auto_rows": null,
            "grid_column": null,
            "grid_gap": null,
            "grid_row": null,
            "grid_template_areas": null,
            "grid_template_columns": null,
            "grid_template_rows": null,
            "height": null,
            "justify_content": null,
            "justify_items": null,
            "left": null,
            "margin": null,
            "max_height": null,
            "max_width": null,
            "min_height": null,
            "min_width": null,
            "object_fit": null,
            "object_position": null,
            "order": null,
            "overflow": null,
            "overflow_x": null,
            "overflow_y": null,
            "padding": null,
            "right": null,
            "top": null,
            "visibility": "hidden",
            "width": null
          }
        },
        "d8d03fc1d4964b72aad9a622eda42538": {
          "model_module": "@jupyter-widgets/base",
          "model_module_version": "1.2.0",
          "model_name": "LayoutModel",
          "state": {
            "_model_module": "@jupyter-widgets/base",
            "_model_module_version": "1.2.0",
            "_model_name": "LayoutModel",
            "_view_count": null,
            "_view_module": "@jupyter-widgets/base",
            "_view_module_version": "1.2.0",
            "_view_name": "LayoutView",
            "align_content": null,
            "align_items": null,
            "align_self": null,
            "border": null,
            "bottom": null,
            "display": null,
            "flex": null,
            "flex_flow": null,
            "grid_area": null,
            "grid_auto_columns": null,
            "grid_auto_flow": null,
            "grid_auto_rows": null,
            "grid_column": null,
            "grid_gap": null,
            "grid_row": null,
            "grid_template_areas": null,
            "grid_template_columns": null,
            "grid_template_rows": null,
            "height": null,
            "justify_content": null,
            "justify_items": null,
            "left": null,
            "margin": null,
            "max_height": null,
            "max_width": null,
            "min_height": null,
            "min_width": null,
            "object_fit": null,
            "object_position": null,
            "order": null,
            "overflow": null,
            "overflow_x": null,
            "overflow_y": null,
            "padding": null,
            "right": null,
            "top": null,
            "visibility": null,
            "width": null
          }
        },
        "dd91dcf826704390971f038af29f0360": {
          "model_module": "@jupyter-widgets/controls",
          "model_module_version": "1.5.0",
          "model_name": "DescriptionStyleModel",
          "state": {
            "_model_module": "@jupyter-widgets/controls",
            "_model_module_version": "1.5.0",
            "_model_name": "DescriptionStyleModel",
            "_view_count": null,
            "_view_module": "@jupyter-widgets/base",
            "_view_module_version": "1.2.0",
            "_view_name": "StyleView",
            "description_width": ""
          }
        },
        "df6c4b5a3af5493191642f564696379d": {
          "model_module": "@jupyter-widgets/controls",
          "model_module_version": "1.5.0",
          "model_name": "DescriptionStyleModel",
          "state": {
            "_model_module": "@jupyter-widgets/controls",
            "_model_module_version": "1.5.0",
            "_model_name": "DescriptionStyleModel",
            "_view_count": null,
            "_view_module": "@jupyter-widgets/base",
            "_view_module_version": "1.2.0",
            "_view_name": "StyleView",
            "description_width": ""
          }
        },
        "e2c5438c80984320a9a6c2beda19d954": {
          "model_module": "@jupyter-widgets/base",
          "model_module_version": "1.2.0",
          "model_name": "LayoutModel",
          "state": {
            "_model_module": "@jupyter-widgets/base",
            "_model_module_version": "1.2.0",
            "_model_name": "LayoutModel",
            "_view_count": null,
            "_view_module": "@jupyter-widgets/base",
            "_view_module_version": "1.2.0",
            "_view_name": "LayoutView",
            "align_content": null,
            "align_items": null,
            "align_self": null,
            "border": null,
            "bottom": null,
            "display": null,
            "flex": null,
            "flex_flow": null,
            "grid_area": null,
            "grid_auto_columns": null,
            "grid_auto_flow": null,
            "grid_auto_rows": null,
            "grid_column": null,
            "grid_gap": null,
            "grid_row": null,
            "grid_template_areas": null,
            "grid_template_columns": null,
            "grid_template_rows": null,
            "height": null,
            "justify_content": null,
            "justify_items": null,
            "left": null,
            "margin": null,
            "max_height": null,
            "max_width": null,
            "min_height": null,
            "min_width": null,
            "object_fit": null,
            "object_position": null,
            "order": null,
            "overflow": null,
            "overflow_x": null,
            "overflow_y": null,
            "padding": null,
            "right": null,
            "top": null,
            "visibility": null,
            "width": null
          }
        },
        "fb49c34256524a63b2179b552ca987ec": {
          "model_module": "@jupyter-widgets/controls",
          "model_module_version": "1.5.0",
          "model_name": "ProgressStyleModel",
          "state": {
            "_model_module": "@jupyter-widgets/controls",
            "_model_module_version": "1.5.0",
            "_model_name": "ProgressStyleModel",
            "_view_count": null,
            "_view_module": "@jupyter-widgets/base",
            "_view_module_version": "1.2.0",
            "_view_name": "StyleView",
            "bar_color": null,
            "description_width": ""
          }
        }
      }
    }
  },
  "nbformat": 4,
  "nbformat_minor": 0
}
